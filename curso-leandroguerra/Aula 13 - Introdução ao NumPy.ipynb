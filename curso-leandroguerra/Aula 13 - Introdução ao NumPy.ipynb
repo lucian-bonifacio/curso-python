{
 "cells": [
  {
   "cell_type": "code",
   "execution_count": 2,
   "metadata": {},
   "outputs": [],
   "source": [
    "# Importando a bibliteca\n",
    "\n",
    "import numpy as np"
   ]
  },
  {
   "cell_type": "code",
   "execution_count": 3,
   "metadata": {},
   "outputs": [
    {
     "name": "stdout",
     "output_type": "stream",
     "text": [
      "Help on package numpy.doc in numpy:\n",
      "\n",
      "NAME\n",
      "    numpy.doc\n",
      "\n",
      "DESCRIPTION\n",
      "    Topical documentation\n",
      "    =====================\n",
      "    \n",
      "    The following topics are available:\n",
      "    \n",
      "    - basics\n",
      "    - broadcasting\n",
      "    - byteswapping\n",
      "    - constants\n",
      "    - creation\n",
      "    - dispatch\n",
      "    - glossary\n",
      "    - indexing\n",
      "    - internals\n",
      "    - misc\n",
      "    - structured_arrays\n",
      "    - subclassing\n",
      "    - ufuncs\n",
      "    \n",
      "    You can view them by\n",
      "    \n",
      "    >>> help(np.doc.TOPIC)                                      #doctest: +SKIP\n",
      "\n",
      "PACKAGE CONTENTS\n",
      "    basics\n",
      "    broadcasting\n",
      "    byteswapping\n",
      "    constants\n",
      "    creation\n",
      "    dispatch\n",
      "    glossary\n",
      "    indexing\n",
      "    internals\n",
      "    misc\n",
      "    structured_arrays\n",
      "    subclassing\n",
      "    ufuncs\n",
      "\n",
      "DATA\n",
      "    __all__ = ['basics', 'broadcasting', 'byteswapping', 'constants', 'cre...\n",
      "\n",
      "FILE\n",
      "    c:\\users\\lucian\\anaconda3\\lib\\site-packages\\numpy\\doc\\__init__.py\n",
      "\n",
      "\n"
     ]
    }
   ],
   "source": [
    "from numpy import doc\n",
    "\n",
    "help(doc)\n"
   ]
  },
  {
   "cell_type": "code",
   "execution_count": 4,
   "metadata": {
    "scrolled": true
   },
   "outputs": [
    {
     "name": "stdout",
     "output_type": "stream",
     "text": [
      "Help on module numpy.doc.indexing in numpy.doc:\n",
      "\n",
      "NAME\n",
      "    numpy.doc.indexing\n",
      "\n",
      "DESCRIPTION\n",
      "    ==============\n",
      "    Array indexing\n",
      "    ==============\n",
      "    \n",
      "    Array indexing refers to any use of the square brackets ([]) to index\n",
      "    array values. There are many options to indexing, which give numpy\n",
      "    indexing great power, but with power comes some complexity and the\n",
      "    potential for confusion. This section is just an overview of the\n",
      "    various options and issues related to indexing. Aside from single\n",
      "    element indexing, the details on most of these options are to be\n",
      "    found in related sections.\n",
      "    \n",
      "    Assignment vs referencing\n",
      "    =========================\n",
      "    \n",
      "    Most of the following examples show the use of indexing when\n",
      "    referencing data in an array. The examples work just as well\n",
      "    when assigning to an array. See the section at the end for\n",
      "    specific examples and explanations on how assignments work.\n",
      "    \n",
      "    Single element indexing\n",
      "    =======================\n",
      "    \n",
      "    Single element indexing for a 1-D array is what one expects. It work\n",
      "    exactly like that for other standard Python sequences. It is 0-based,\n",
      "    and accepts negative indices for indexing from the end of the array. ::\n",
      "    \n",
      "        >>> x = np.arange(10)\n",
      "        >>> x[2]\n",
      "        2\n",
      "        >>> x[-2]\n",
      "        8\n",
      "    \n",
      "    Unlike lists and tuples, numpy arrays support multidimensional indexing\n",
      "    for multidimensional arrays. That means that it is not necessary to\n",
      "    separate each dimension's index into its own set of square brackets. ::\n",
      "    \n",
      "        >>> x.shape = (2,5) # now x is 2-dimensional\n",
      "        >>> x[1,3]\n",
      "        8\n",
      "        >>> x[1,-1]\n",
      "        9\n",
      "    \n",
      "    Note that if one indexes a multidimensional array with fewer indices\n",
      "    than dimensions, one gets a subdimensional array. For example: ::\n",
      "    \n",
      "        >>> x[0]\n",
      "        array([0, 1, 2, 3, 4])\n",
      "    \n",
      "    That is, each index specified selects the array corresponding to the\n",
      "    rest of the dimensions selected. In the above example, choosing 0\n",
      "    means that the remaining dimension of length 5 is being left unspecified,\n",
      "    and that what is returned is an array of that dimensionality and size.\n",
      "    It must be noted that the returned array is not a copy of the original,\n",
      "    but points to the same values in memory as does the original array.\n",
      "    In  this case, the 1-D array at the first position (0) is returned.\n",
      "    So using a single index on the returned array, results in a single\n",
      "    element being returned. That is: ::\n",
      "    \n",
      "        >>> x[0][2]\n",
      "        2\n",
      "    \n",
      "    So note that ``x[0,2] = x[0][2]`` though the second case is more\n",
      "    inefficient as a new temporary array is created after the first index\n",
      "    that is subsequently indexed by 2.\n",
      "    \n",
      "    Note to those used to IDL or Fortran memory order as it relates to\n",
      "    indexing.  NumPy uses C-order indexing. That means that the last\n",
      "    index usually represents the most rapidly changing memory location,\n",
      "    unlike Fortran or IDL, where the first index represents the most\n",
      "    rapidly changing location in memory. This difference represents a\n",
      "    great potential for confusion.\n",
      "    \n",
      "    Other indexing options\n",
      "    ======================\n",
      "    \n",
      "    It is possible to slice and stride arrays to extract arrays of the\n",
      "    same number of dimensions, but of different sizes than the original.\n",
      "    The slicing and striding works exactly the same way it does for lists\n",
      "    and tuples except that they can be applied to multiple dimensions as\n",
      "    well. A few examples illustrates best: ::\n",
      "    \n",
      "     >>> x = np.arange(10)\n",
      "     >>> x[2:5]\n",
      "     array([2, 3, 4])\n",
      "     >>> x[:-7]\n",
      "     array([0, 1, 2])\n",
      "     >>> x[1:7:2]\n",
      "     array([1, 3, 5])\n",
      "     >>> y = np.arange(35).reshape(5,7)\n",
      "     >>> y[1:5:2,::3]\n",
      "     array([[ 7, 10, 13],\n",
      "            [21, 24, 27]])\n",
      "    \n",
      "    Note that slices of arrays do not copy the internal array data but\n",
      "    only produce new views of the original data. This is different from\n",
      "    list or tuple slicing and an explicit ``copy()`` is recommended if\n",
      "    the original data is not required anymore.\n",
      "    \n",
      "    It is possible to index arrays with other arrays for the purposes of\n",
      "    selecting lists of values out of arrays into new arrays. There are\n",
      "    two different ways of accomplishing this. One uses one or more arrays\n",
      "    of index values. The other involves giving a boolean array of the proper\n",
      "    shape to indicate the values to be selected. Index arrays are a very\n",
      "    powerful tool that allow one to avoid looping over individual elements in\n",
      "    arrays and thus greatly improve performance.\n",
      "    \n",
      "    It is possible to use special features to effectively increase the\n",
      "    number of dimensions in an array through indexing so the resulting\n",
      "    array acquires the shape needed for use in an expression or with a\n",
      "    specific function.\n",
      "    \n",
      "    Index arrays\n",
      "    ============\n",
      "    \n",
      "    NumPy arrays may be indexed with other arrays (or any other sequence-\n",
      "    like object that can be converted to an array, such as lists, with the\n",
      "    exception of tuples; see the end of this document for why this is). The\n",
      "    use of index arrays ranges from simple, straightforward cases to\n",
      "    complex, hard-to-understand cases. For all cases of index arrays, what\n",
      "    is returned is a copy of the original data, not a view as one gets for\n",
      "    slices.\n",
      "    \n",
      "    Index arrays must be of integer type. Each value in the array indicates\n",
      "    which value in the array to use in place of the index. To illustrate: ::\n",
      "    \n",
      "     >>> x = np.arange(10,1,-1)\n",
      "     >>> x\n",
      "     array([10,  9,  8,  7,  6,  5,  4,  3,  2])\n",
      "     >>> x[np.array([3, 3, 1, 8])]\n",
      "     array([7, 7, 9, 2])\n",
      "    \n",
      "    \n",
      "    The index array consisting of the values 3, 3, 1 and 8 correspondingly\n",
      "    create an array of length 4 (same as the index array) where each index\n",
      "    is replaced by the value the index array has in the array being indexed.\n",
      "    \n",
      "    Negative values are permitted and work as they do with single indices\n",
      "    or slices: ::\n",
      "    \n",
      "     >>> x[np.array([3,3,-3,8])]\n",
      "     array([7, 7, 4, 2])\n",
      "    \n",
      "    It is an error to have index values out of bounds: ::\n",
      "    \n",
      "     >>> x[np.array([3, 3, 20, 8])]\n",
      "     <type 'exceptions.IndexError'>: index 20 out of bounds 0<=index<9\n",
      "    \n",
      "    Generally speaking, what is returned when index arrays are used is\n",
      "    an array with the same shape as the index array, but with the type\n",
      "    and values of the array being indexed. As an example, we can use a\n",
      "    multidimensional index array instead: ::\n",
      "    \n",
      "     >>> x[np.array([[1,1],[2,3]])]\n",
      "     array([[9, 9],\n",
      "            [8, 7]])\n",
      "    \n",
      "    Indexing Multi-dimensional arrays\n",
      "    =================================\n",
      "    \n",
      "    Things become more complex when multidimensional arrays are indexed,\n",
      "    particularly with multidimensional index arrays. These tend to be\n",
      "    more unusual uses, but they are permitted, and they are useful for some\n",
      "    problems. We'll  start with the simplest multidimensional case (using\n",
      "    the array y from the previous examples): ::\n",
      "    \n",
      "     >>> y[np.array([0,2,4]), np.array([0,1,2])]\n",
      "     array([ 0, 15, 30])\n",
      "    \n",
      "    In this case, if the index arrays have a matching shape, and there is\n",
      "    an index array for each dimension of the array being indexed, the\n",
      "    resultant array has the same shape as the index arrays, and the values\n",
      "    correspond to the index set for each position in the index arrays. In\n",
      "    this example, the first index value is 0 for both index arrays, and\n",
      "    thus the first value of the resultant array is y[0,0]. The next value\n",
      "    is y[2,1], and the last is y[4,2].\n",
      "    \n",
      "    If the index arrays do not have the same shape, there is an attempt to\n",
      "    broadcast them to the same shape.  If they cannot be broadcast to the\n",
      "    same shape, an exception is raised: ::\n",
      "    \n",
      "     >>> y[np.array([0,2,4]), np.array([0,1])]\n",
      "     <type 'exceptions.ValueError'>: shape mismatch: objects cannot be\n",
      "     broadcast to a single shape\n",
      "    \n",
      "    The broadcasting mechanism permits index arrays to be combined with\n",
      "    scalars for other indices. The effect is that the scalar value is used\n",
      "    for all the corresponding values of the index arrays: ::\n",
      "    \n",
      "     >>> y[np.array([0,2,4]), 1]\n",
      "     array([ 1, 15, 29])\n",
      "    \n",
      "    Jumping to the next level of complexity, it is possible to only\n",
      "    partially index an array with index arrays. It takes a bit of thought\n",
      "    to understand what happens in such cases. For example if we just use\n",
      "    one index array with y: ::\n",
      "    \n",
      "     >>> y[np.array([0,2,4])]\n",
      "     array([[ 0,  1,  2,  3,  4,  5,  6],\n",
      "            [14, 15, 16, 17, 18, 19, 20],\n",
      "            [28, 29, 30, 31, 32, 33, 34]])\n",
      "    \n",
      "    What results is the construction of a new array where each value of\n",
      "    the index array selects one row from the array being indexed and the\n",
      "    resultant array has the resulting shape (number of index elements,\n",
      "    size of row).\n",
      "    \n",
      "    An example of where this may be useful is for a color lookup table\n",
      "    where we want to map the values of an image into RGB triples for\n",
      "    display. The lookup table could have a shape (nlookup, 3). Indexing\n",
      "    such an array with an image with shape (ny, nx) with dtype=np.uint8\n",
      "    (or any integer type so long as values are with the bounds of the\n",
      "    lookup table) will result in an array of shape (ny, nx, 3) where a\n",
      "    triple of RGB values is associated with each pixel location.\n",
      "    \n",
      "    In general, the shape of the resultant array will be the concatenation\n",
      "    of the shape of the index array (or the shape that all the index arrays\n",
      "    were broadcast to) with the shape of any unused dimensions (those not\n",
      "    indexed) in the array being indexed.\n",
      "    \n",
      "    Boolean or \"mask\" index arrays\n",
      "    ==============================\n",
      "    \n",
      "    Boolean arrays used as indices are treated in a different manner\n",
      "    entirely than index arrays. Boolean arrays must be of the same shape\n",
      "    as the initial dimensions of the array being indexed. In the\n",
      "    most straightforward case, the boolean array has the same shape: ::\n",
      "    \n",
      "     >>> b = y>20\n",
      "     >>> y[b]\n",
      "     array([21, 22, 23, 24, 25, 26, 27, 28, 29, 30, 31, 32, 33, 34])\n",
      "    \n",
      "    Unlike in the case of integer index arrays, in the boolean case, the\n",
      "    result is a 1-D array containing all the elements in the indexed array\n",
      "    corresponding to all the true elements in the boolean array. The\n",
      "    elements in the indexed array are always iterated and returned in\n",
      "    :term:`row-major` (C-style) order. The result is also identical to\n",
      "    ``y[np.nonzero(b)]``. As with index arrays, what is returned is a copy\n",
      "    of the data, not a view as one gets with slices.\n",
      "    \n",
      "    The result will be multidimensional if y has more dimensions than b.\n",
      "    For example: ::\n",
      "    \n",
      "     >>> b[:,5] # use a 1-D boolean whose first dim agrees with the first dim of y\n",
      "     array([False, False, False,  True,  True])\n",
      "     >>> y[b[:,5]]\n",
      "     array([[21, 22, 23, 24, 25, 26, 27],\n",
      "            [28, 29, 30, 31, 32, 33, 34]])\n",
      "    \n",
      "    Here the 4th and 5th rows are selected from the indexed array and\n",
      "    combined to make a 2-D array.\n",
      "    \n",
      "    In general, when the boolean array has fewer dimensions than the array\n",
      "    being indexed, this is equivalent to y[b, ...], which means\n",
      "    y is indexed by b followed by as many : as are needed to fill\n",
      "    out the rank of y.\n",
      "    Thus the shape of the result is one dimension containing the number\n",
      "    of True elements of the boolean array, followed by the remaining\n",
      "    dimensions of the array being indexed.\n",
      "    \n",
      "    For example, using a 2-D boolean array of shape (2,3)\n",
      "    with four True elements to select rows from a 3-D array of shape\n",
      "    (2,3,5) results in a 2-D result of shape (4,5): ::\n",
      "    \n",
      "     >>> x = np.arange(30).reshape(2,3,5)\n",
      "     >>> x\n",
      "     array([[[ 0,  1,  2,  3,  4],\n",
      "             [ 5,  6,  7,  8,  9],\n",
      "             [10, 11, 12, 13, 14]],\n",
      "            [[15, 16, 17, 18, 19],\n",
      "             [20, 21, 22, 23, 24],\n",
      "             [25, 26, 27, 28, 29]]])\n",
      "     >>> b = np.array([[True, True, False], [False, True, True]])\n",
      "     >>> x[b]\n",
      "     array([[ 0,  1,  2,  3,  4],\n",
      "            [ 5,  6,  7,  8,  9],\n",
      "            [20, 21, 22, 23, 24],\n",
      "            [25, 26, 27, 28, 29]])\n",
      "    \n",
      "    For further details, consult the numpy reference documentation on array indexing.\n",
      "    \n",
      "    Combining index arrays with slices\n",
      "    ==================================\n",
      "    \n",
      "    Index arrays may be combined with slices. For example: ::\n",
      "    \n",
      "     >>> y[np.array([0,2,4]),1:3]\n",
      "     array([[ 1,  2],\n",
      "            [15, 16],\n",
      "            [29, 30]])\n",
      "    \n",
      "    In effect, the slice is converted to an index array\n",
      "    np.array([[1,2]]) (shape (1,2)) that is broadcast with the index array\n",
      "    to produce a resultant array of shape (3,2).\n",
      "    \n",
      "    Likewise, slicing can be combined with broadcasted boolean indices: ::\n",
      "    \n",
      "     >>> b = y > 20\n",
      "     >>> b\n",
      "     array([[False, False, False, False, False, False, False],\n",
      "           [False, False, False, False, False, False, False],\n",
      "           [False, False, False, False, False, False, False],\n",
      "           [ True,  True,  True,  True,  True,  True,  True],\n",
      "           [ True,  True,  True,  True,  True,  True,  True]])\n",
      "     >>> y[b[:,5],1:3]\n",
      "     array([[22, 23],\n",
      "            [29, 30]])\n",
      "    \n",
      "    Structural indexing tools\n",
      "    =========================\n",
      "    \n",
      "    To facilitate easy matching of array shapes with expressions and in\n",
      "    assignments, the np.newaxis object can be used within array indices\n",
      "    to add new dimensions with a size of 1. For example: ::\n",
      "    \n",
      "     >>> y.shape\n",
      "     (5, 7)\n",
      "     >>> y[:,np.newaxis,:].shape\n",
      "     (5, 1, 7)\n",
      "    \n",
      "    Note that there are no new elements in the array, just that the\n",
      "    dimensionality is increased. This can be handy to combine two\n",
      "    arrays in a way that otherwise would require explicitly reshaping\n",
      "    operations. For example: ::\n",
      "    \n",
      "     >>> x = np.arange(5)\n",
      "     >>> x[:,np.newaxis] + x[np.newaxis,:]\n",
      "     array([[0, 1, 2, 3, 4],\n",
      "            [1, 2, 3, 4, 5],\n",
      "            [2, 3, 4, 5, 6],\n",
      "            [3, 4, 5, 6, 7],\n",
      "            [4, 5, 6, 7, 8]])\n",
      "    \n",
      "    The ellipsis syntax maybe used to indicate selecting in full any\n",
      "    remaining unspecified dimensions. For example: ::\n",
      "    \n",
      "     >>> z = np.arange(81).reshape(3,3,3,3)\n",
      "     >>> z[1,...,2]\n",
      "     array([[29, 32, 35],\n",
      "            [38, 41, 44],\n",
      "            [47, 50, 53]])\n",
      "    \n",
      "    This is equivalent to: ::\n",
      "    \n",
      "     >>> z[1,:,:,2]\n",
      "     array([[29, 32, 35],\n",
      "            [38, 41, 44],\n",
      "            [47, 50, 53]])\n",
      "    \n",
      "    Assigning values to indexed arrays\n",
      "    ==================================\n",
      "    \n",
      "    As mentioned, one can select a subset of an array to assign to using\n",
      "    a single index, slices, and index and mask arrays. The value being\n",
      "    assigned to the indexed array must be shape consistent (the same shape\n",
      "    or broadcastable to the shape the index produces). For example, it is\n",
      "    permitted to assign a constant to a slice: ::\n",
      "    \n",
      "     >>> x = np.arange(10)\n",
      "     >>> x[2:7] = 1\n",
      "    \n",
      "    or an array of the right size: ::\n",
      "    \n",
      "     >>> x[2:7] = np.arange(5)\n",
      "    \n",
      "    Note that assignments may result in changes if assigning\n",
      "    higher types to lower types (like floats to ints) or even\n",
      "    exceptions (assigning complex to floats or ints): ::\n",
      "    \n",
      "     >>> x[1] = 1.2\n",
      "     >>> x[1]\n",
      "     1\n",
      "     >>> x[1] = 1.2j\n",
      "     <type 'exceptions.TypeError'>: can't convert complex to long; use\n",
      "     long(abs(z))\n",
      "    \n",
      "    \n",
      "    Unlike some of the references (such as array and mask indices)\n",
      "    assignments are always made to the original data in the array\n",
      "    (indeed, nothing else would make sense!). Note though, that some\n",
      "    actions may not work as one may naively expect. This particular\n",
      "    example is often surprising to people: ::\n",
      "    \n",
      "     >>> x = np.arange(0, 50, 10)\n",
      "     >>> x\n",
      "     array([ 0, 10, 20, 30, 40])\n",
      "     >>> x[np.array([1, 1, 3, 1])] += 1\n",
      "     >>> x\n",
      "     array([ 0, 11, 20, 31, 40])\n",
      "    \n",
      "    Where people expect that the 1st location will be incremented by 3.\n",
      "    In fact, it will only be incremented by 1. The reason is because\n",
      "    a new array is extracted from the original (as a temporary) containing\n",
      "    the values at 1, 1, 3, 1, then the value 1 is added to the temporary,\n",
      "    and then the temporary is assigned back to the original array. Thus\n",
      "    the value of the array at x[1]+1 is assigned to x[1] three times,\n",
      "    rather than being incremented 3 times.\n",
      "    \n",
      "    Dealing with variable numbers of indices within programs\n",
      "    ========================================================\n",
      "    \n",
      "    The index syntax is very powerful but limiting when dealing with\n",
      "    a variable number of indices. For example, if you want to write\n",
      "    a function that can handle arguments with various numbers of\n",
      "    dimensions without having to write special case code for each\n",
      "    number of possible dimensions, how can that be done? If one\n",
      "    supplies to the index a tuple, the tuple will be interpreted\n",
      "    as a list of indices. For example (using the previous definition\n",
      "    for the array z): ::\n",
      "    \n",
      "     >>> indices = (1,1,1,1)\n",
      "     >>> z[indices]\n",
      "     40\n",
      "    \n",
      "    So one can use code to construct tuples of any number of indices\n",
      "    and then use these within an index.\n",
      "    \n",
      "    Slices can be specified within programs by using the slice() function\n",
      "    in Python. For example: ::\n",
      "    \n",
      "     >>> indices = (1,1,1,slice(0,2)) # same as [1,1,1,0:2]\n",
      "     >>> z[indices]\n",
      "     array([39, 40])\n",
      "    \n",
      "    Likewise, ellipsis can be specified by code by using the Ellipsis\n",
      "    object: ::\n",
      "    \n",
      "     >>> indices = (1, Ellipsis, 1) # same as [1,...,1]\n",
      "     >>> z[indices]\n",
      "     array([[28, 31, 34],\n",
      "            [37, 40, 43],\n",
      "            [46, 49, 52]])\n",
      "    \n",
      "    For this reason it is possible to use the output from the np.nonzero()\n",
      "    function directly as an index since it always returns a tuple of index\n",
      "    arrays.\n",
      "    \n",
      "    Because the special treatment of tuples, they are not automatically\n",
      "    converted to an array as a list would be. As an example: ::\n",
      "    \n",
      "     >>> z[[1,1,1,1]] # produces a large array\n",
      "     array([[[[27, 28, 29],\n",
      "              [30, 31, 32], ...\n",
      "     >>> z[(1,1,1,1)] # returns a single value\n",
      "     40\n",
      "\n",
      "DATA\n",
      "    absolute_import = _Feature((2, 5, 0, 'alpha', 1), (3, 0, 0, 'alpha', 0...\n",
      "    division = _Feature((2, 2, 0, 'alpha', 2), (3, 0, 0, 'alpha', 0), 1310...\n",
      "    print_function = _Feature((2, 6, 0, 'alpha', 2), (3, 0, 0, 'alpha', 0)...\n",
      "\n",
      "FILE\n",
      "    c:\\users\\lucian\\anaconda3\\lib\\site-packages\\numpy\\doc\\indexing.py\n",
      "\n",
      "\n"
     ]
    }
   ],
   "source": [
    "help(np.doc.indexing)"
   ]
  },
  {
   "cell_type": "code",
   "execution_count": 5,
   "metadata": {},
   "outputs": [
    {
     "data": {
      "text/plain": [
       "[1, 2, 3, 4, 5, 6, 7, 8, 9]"
      ]
     },
     "execution_count": 5,
     "metadata": {},
     "output_type": "execute_result"
    }
   ],
   "source": [
    "list(range(1,10))"
   ]
  },
  {
   "cell_type": "code",
   "execution_count": 6,
   "metadata": {},
   "outputs": [
    {
     "data": {
      "text/plain": [
       "array([1, 2, 3, 4, 5, 6, 7, 8, 9])"
      ]
     },
     "execution_count": 6,
     "metadata": {},
     "output_type": "execute_result"
    }
   ],
   "source": [
    "# Criando um array\n",
    "\n",
    "v1 = np.array(list(range(1,10)))\n",
    "\n",
    "v1"
   ]
  },
  {
   "cell_type": "code",
   "execution_count": 7,
   "metadata": {
    "scrolled": true
   },
   "outputs": [
    {
     "data": {
      "text/plain": [
       "array([100, list([1, 2, 3, 4, 5, 6, 7, 8, 9])], dtype=object)"
      ]
     },
     "execution_count": 7,
     "metadata": {},
     "output_type": "execute_result"
    }
   ],
   "source": [
    "# Um array é mais poderoso do que imaginamos\n",
    "v2 = np.array([100,list(range(1,10))])\n",
    "\n",
    "v2"
   ]
  },
  {
   "cell_type": "code",
   "execution_count": 10,
   "metadata": {},
   "outputs": [
    {
     "name": "stdout",
     "output_type": "stream",
     "text": [
      "100\n",
      "[1, 2, 3, 4, 5, 6, 7, 8, 9]\n",
      "3\n"
     ]
    }
   ],
   "source": [
    "# Com muitos modos de acessar os seus elementos\n",
    "\n",
    "print(v2[0])\n",
    "print(v2[1])\n",
    "print(v2[1][2])\n"
   ]
  },
  {
   "cell_type": "code",
   "execution_count": 11,
   "metadata": {
    "scrolled": true
   },
   "outputs": [
    {
     "name": "stdout",
     "output_type": "stream",
     "text": [
      "[[1]\n",
      " [2]\n",
      " [3]\n",
      " [4]\n",
      " [5]\n",
      " [6]\n",
      " [7]\n",
      " [8]\n",
      " [9]]\n",
      "[1 2 3 4 5 6 7 8 9]\n"
     ]
    }
   ],
   "source": [
    "# E mudar a sua forma\n",
    "\n",
    "print(np.vstack(v2[1]))\n",
    "\n",
    "print(np.hstack(v2[1]))"
   ]
  },
  {
   "cell_type": "code",
   "execution_count": 12,
   "metadata": {},
   "outputs": [
    {
     "data": {
      "text/plain": [
       "array([1, 2, 3, 4, 5, 6, 7, 8, 9])"
      ]
     },
     "execution_count": 12,
     "metadata": {},
     "output_type": "execute_result"
    }
   ],
   "source": [
    "v1"
   ]
  },
  {
   "cell_type": "code",
   "execution_count": 13,
   "metadata": {},
   "outputs": [
    {
     "data": {
      "text/plain": [
       "array([[1, 2, 3],\n",
       "       [4, 5, 6],\n",
       "       [7, 8, 9]])"
      ]
     },
     "execution_count": 13,
     "metadata": {},
     "output_type": "execute_result"
    }
   ],
   "source": [
    "v1.reshape(3,3)"
   ]
  },
  {
   "cell_type": "code",
   "execution_count": 14,
   "metadata": {},
   "outputs": [
    {
     "data": {
      "text/plain": [
       "array([ 1,  2,  3,  4,  5,  6,  7,  8,  9, 10])"
      ]
     },
     "execution_count": 14,
     "metadata": {},
     "output_type": "execute_result"
    }
   ],
   "source": [
    "v3 = np.array(list(range(1,11)))\n",
    "\n",
    "v3"
   ]
  },
  {
   "cell_type": "code",
   "execution_count": 15,
   "metadata": {},
   "outputs": [
    {
     "data": {
      "text/plain": [
       "array([[ 1,  2,  3,  4,  5],\n",
       "       [ 6,  7,  8,  9, 10]])"
      ]
     },
     "execution_count": 15,
     "metadata": {},
     "output_type": "execute_result"
    }
   ],
   "source": [
    "v3.reshape(2,5)"
   ]
  },
  {
   "cell_type": "code",
   "execution_count": 16,
   "metadata": {},
   "outputs": [
    {
     "data": {
      "text/plain": [
       "array([[ 1,  2],\n",
       "       [ 3,  4],\n",
       "       [ 5,  6],\n",
       "       [ 7,  8],\n",
       "       [ 9, 10]])"
      ]
     },
     "execution_count": 16,
     "metadata": {},
     "output_type": "execute_result"
    }
   ],
   "source": [
    "v3.reshape(5,2)"
   ]
  },
  {
   "cell_type": "code",
   "execution_count": 18,
   "metadata": {},
   "outputs": [
    {
     "data": {
      "text/plain": [
       "array([[1.5, 2. , 3. ],\n",
       "       [4. , 5. , 6. ],\n",
       "       [3. , 2. , 1. ],\n",
       "       [4. , 5. , 6. ]])"
      ]
     },
     "execution_count": 18,
     "metadata": {},
     "output_type": "execute_result"
    }
   ],
   "source": [
    "# Tipos de dados\n",
    "# Lembre-se que uma matriz também é chamada de array multidimensional\n",
    "m1 = np.array([(1.5,2,3), (4,5,6), (3,2,1), (4,5,6)])\n",
    "\n",
    "m1"
   ]
  },
  {
   "cell_type": "code",
   "execution_count": 19,
   "metadata": {},
   "outputs": [
    {
     "data": {
      "text/plain": [
       "array([[1, 2, 3],\n",
       "       [4, 5, 6],\n",
       "       [3, 2, 1],\n",
       "       [4, 5, 6]])"
      ]
     },
     "execution_count": 19,
     "metadata": {},
     "output_type": "execute_result"
    }
   ],
   "source": [
    "# Tipos de dados - devem ser definidos, se preciso, no momento da criacao do array\n",
    "\n",
    "m2 = np.array([(1.5,2,3), (4,5,6), (3,2,1), (4,5,6)], dtype = int)\n",
    "\n",
    "m2"
   ]
  },
  {
   "cell_type": "code",
   "execution_count": 20,
   "metadata": {},
   "outputs": [
    {
     "name": "stdout",
     "output_type": "stream",
     "text": [
      "Array preenchido com zeros\n",
      "[0 0 0 0 0 0 0 0 0 0 0 0 0 0 0]\n",
      "\n",
      "Array preenchido com 1\n",
      "[1. 1. 1. 1. 1.]\n",
      "\n",
      "Matriz 5x5 preenchida com 1\n",
      "[[1. 1. 1. 1. 1.]\n",
      " [1. 1. 1. 1. 1.]\n",
      " [1. 1. 1. 1. 1.]\n",
      " [1. 1. 1. 1. 1.]\n",
      " [1. 1. 1. 1. 1.]]\n",
      "\n",
      "Matriz ou vetor com numeros iguais\n",
      "[[42 42]\n",
      " [42 42]\n",
      " [42 42]]\n",
      "\n",
      "Matriz identidade\n",
      "[[1. 0. 0. 0. 0.]\n",
      " [0. 1. 0. 0. 0.]\n",
      " [0. 0. 1. 0. 0.]\n",
      " [0. 0. 0. 1. 0.]\n",
      " [0. 0. 0. 0. 1.]]\n",
      "\n",
      "Arrays sequenciais - com a sequencia definida por voce\n",
      "[100 102 104 106 108 110 112 114 116 118 120]\n",
      "\n",
      "Ou com a sequencia definida pelo NumPy\n",
      "[ 0.   2.5  5.   7.5 10. ]\n"
     ]
    }
   ],
   "source": [
    "# Criando arrays predefinidos\n",
    "\n",
    "print(\"Array preenchido com zeros\")\n",
    "print(np.zeros(15, dtype = int))\n",
    "print()\n",
    "print(\"Array preenchido com 1\")\n",
    "print(np.ones(5))\n",
    "print()\n",
    "print(\"Matriz 5x5 preenchida com 1\")\n",
    "print(np.ones((5,5)))\n",
    "print()\n",
    "print(\"Matriz ou vetor com numeros iguais\")\n",
    "print(np.full((3,2), 42))\n",
    "print()\n",
    "print(\"Matriz identidade\")\n",
    "print(np.eye(5,5))\n",
    "print()\n",
    "print(\"Arrays sequenciais - com a sequencia definida por voce\")\n",
    "print(np.arange(100,122,2))\n",
    "print()\n",
    "print(\"Ou com a sequencia definida pelo NumPy\")\n",
    "print(np.linspace(0,10,5)) "
   ]
  },
  {
   "cell_type": "code",
   "execution_count": 21,
   "metadata": {
    "scrolled": false
   },
   "outputs": [
    {
     "name": "stdout",
     "output_type": "stream",
     "text": [
      "Matriz com numeros aleatorios entre 0 e 1\n",
      "[[0.68851533 0.90437174]\n",
      " [0.43175547 0.48319099]]\n",
      "\n",
      "Numeros inteiros aleatorios\n",
      "[36 46 24  2 57 15]\n",
      "\n",
      "Numero aleatorio da distribuicao normal\n",
      "1.516228044621796\n",
      "\n",
      "Numeros aleatorios da distribuicao normal\n",
      "[-1.15783432  1.09760899 -0.74924203]\n",
      "\n",
      "Numero aleatorio da distribuicao uniforme\n",
      "0.4606351293823493\n",
      "\n",
      "Numeros aleatorios da distribuicao uniforme\n",
      "[0.05971589 0.23124722 0.5143787  0.60214383 0.06474615]\n",
      "\n",
      "Lembre-se que voce pode criar matrizes de numeros aleatorios da distribuicao normal com reshape\n",
      "[[-2.41190967 -0.44737516]\n",
      " [ 2.04617043  1.16487341]\n",
      " [ 1.13826169  0.27448751]\n",
      " [-0.72494169  0.11567413]]\n",
      "\n"
     ]
    }
   ],
   "source": [
    "# Criando arrays com numeros aleatorios\n",
    "\n",
    "print(\"Matriz com numeros aleatorios entre 0 e 1\")\n",
    "print(np.random.random((2,2)))\n",
    "print()\n",
    "print(\"Numeros inteiros aleatorios\")\n",
    "print(np.random.randint(1, 60, size=6))\n",
    "print()\n",
    "print(\"Numero aleatorio da distribuicao normal\")\n",
    "print(np.random.normal())\n",
    "print()\n",
    "print(\"Numeros aleatorios da distribuicao normal\")\n",
    "print(np.random.randn(3))\n",
    "print()\n",
    "print(\"Numero aleatorio da distribuicao uniforme\")\n",
    "print(np.random.uniform())\n",
    "print()\n",
    "print(\"Numeros aleatorios da distribuicao uniforme\")\n",
    "print(np.random.uniform(size=5))\n",
    "print()\n",
    "print(\"Lembre-se que voce pode criar matrizes de numeros aleatorios da distribuicao normal com reshape\")\n",
    "print(np.random.randn(8).reshape(4,2))\n",
    "print()"
   ]
  },
  {
   "cell_type": "code",
   "execution_count": 22,
   "metadata": {},
   "outputs": [],
   "source": [
    "# Mas para o que serve mesmo tudo isso?\n",
    "# Vamos ver no grafico\n",
    "\n",
    "%matplotlib inline\n",
    "\n",
    "import matplotlib.pyplot as plt"
   ]
  },
  {
   "cell_type": "code",
   "execution_count": 23,
   "metadata": {
    "scrolled": true
   },
   "outputs": [
    {
     "data": {
      "text/plain": [
       "array([ 0.76046229,  1.20115615, -0.15211604, ..., -1.52509508,\n",
       "       -1.65802221,  0.28580573])"
      ]
     },
     "execution_count": 23,
     "metadata": {},
     "output_type": "execute_result"
    }
   ],
   "source": [
    "data = np.random.randn(50000)\n",
    "\n",
    "data"
   ]
  },
  {
   "cell_type": "code",
   "execution_count": 24,
   "metadata": {},
   "outputs": [
    {
     "data": {
      "image/png": "[encoded data removed]",
      "text/plain": [
       "<Figure size 432x288 with 1 Axes>"
      ]
     },
     "metadata": {
      "needs_background": "light"
     },
     "output_type": "display_data"
    }
   ],
   "source": [
    "hx, hy, _ = plt.hist(data, bins=25, density=1, color=\"blue\")\n",
    "\n",
    "plt.ylim(0.0,max(hx)+0.05)\n",
    "plt.title('Numeros aleatorios da distribuicao normal')\n",
    "plt.grid()"
   ]
  }
 ],
 "metadata": {
  "kernelspec": {
   "display_name": "Python 3",
   "language": "python",
   "name": "python3"
  },
  "language_info": {
   "codemirror_mode": {
    "name": "ipython",
    "version": 3
   },
   "file_extension": ".py",
   "mimetype": "text/x-python",
   "name": "python",
   "nbconvert_exporter": "python",
   "pygments_lexer": "ipython3",
   "version": "3.8.3"
  }
 },
 "nbformat": 4,
 "nbformat_minor": 2
}
