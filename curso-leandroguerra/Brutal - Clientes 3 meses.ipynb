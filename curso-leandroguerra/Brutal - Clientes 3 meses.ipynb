{
 "cells": [
  {
   "cell_type": "code",
   "execution_count": 1,
   "metadata": {},
   "outputs": [],
   "source": [
    "import pandas as pd"
   ]
  },
  {
   "cell_type": "code",
   "execution_count": 2,
   "metadata": {},
   "outputs": [],
   "source": [
    "pd.read_excel?"
   ]
  },
  {
   "cell_type": "code",
   "execution_count": 3,
   "metadata": {},
   "outputs": [],
   "source": [
    "df = pd.read_excel('E:\\\\Google Drive\\\\PROGRAMAÇÃO\\\\curso-python\\\\curso-leandroguerra\\\\base de dados\\\\brutal-pedidos.xlsx')"
   ]
  },
  {
   "cell_type": "code",
   "execution_count": 5,
   "metadata": {},
   "outputs": [
    {
     "data": {
      "text/plain": [
       "Index(['Cód. Pedido', 'Cliente', 'Telefone', 'Colaborador ', 'Tipo', 'Origem',\n",
       "       'Aberto Em', 'Finalizado Em', '+ Total Itens', '+ Serviço', '+ Entrega',\n",
       "       '- Desconto', '= Total a Receber', 'Total Recebido', 'Status', 'Abrir'],\n",
       "      dtype='object')"
      ]
     },
     "execution_count": 5,
     "metadata": {},
     "output_type": "execute_result"
    }
   ],
   "source": [
    "df.columns"
   ]
  },
  {
   "cell_type": "code",
   "execution_count": 6,
   "metadata": {},
   "outputs": [
    {
     "data": {
      "text/html": [
       "<div>\n",
       "<style scoped>\n",
       "    .dataframe tbody tr th:only-of-type {\n",
       "        vertical-align: middle;\n",
       "    }\n",
       "\n",
       "    .dataframe tbody tr th {\n",
       "        vertical-align: top;\n",
       "    }\n",
       "\n",
       "    .dataframe thead th {\n",
       "        text-align: right;\n",
       "    }\n",
       "</style>\n",
       "<table border=\"1\" class=\"dataframe\">\n",
       "  <thead>\n",
       "    <tr style=\"text-align: right;\">\n",
       "      <th></th>\n",
       "      <th>Cód. Pedido</th>\n",
       "      <th>Cliente</th>\n",
       "      <th>Telefone</th>\n",
       "      <th>Colaborador</th>\n",
       "      <th>Tipo</th>\n",
       "      <th>Origem</th>\n",
       "      <th>Aberto Em</th>\n",
       "      <th>Finalizado Em</th>\n",
       "      <th>+ Total Itens</th>\n",
       "      <th>+ Serviço</th>\n",
       "      <th>+ Entrega</th>\n",
       "      <th>- Desconto</th>\n",
       "      <th>= Total a Receber</th>\n",
       "      <th>Total Recebido</th>\n",
       "      <th>Status</th>\n",
       "      <th>Abrir</th>\n",
       "    </tr>\n",
       "  </thead>\n",
       "  <tbody>\n",
       "    <tr>\n",
       "      <th>0</th>\n",
       "      <td>3860</td>\n",
       "      <td>Stephano Dias</td>\n",
       "      <td>(61) 99575-7786</td>\n",
       "      <td>Victor</td>\n",
       "      <td>Delivery</td>\n",
       "      <td>Desktop</td>\n",
       "      <td>2020-09-17 23:00:29.988</td>\n",
       "      <td>2020-09-17 23:00:59.615</td>\n",
       "      <td>8.0</td>\n",
       "      <td>0</td>\n",
       "      <td>0</td>\n",
       "      <td>0</td>\n",
       "      <td>8.0</td>\n",
       "      <td>8.0</td>\n",
       "      <td>Finalizado/Pago</td>\n",
       "      <td>NaN</td>\n",
       "    </tr>\n",
       "    <tr>\n",
       "      <th>1</th>\n",
       "      <td>3859</td>\n",
       "      <td>Paulo</td>\n",
       "      <td>(61) 98169-3233</td>\n",
       "      <td>Victor</td>\n",
       "      <td>Delivery</td>\n",
       "      <td>Desktop</td>\n",
       "      <td>2020-09-17 22:17:19.771</td>\n",
       "      <td>2020-09-17 22:46:16.324</td>\n",
       "      <td>28.0</td>\n",
       "      <td>0</td>\n",
       "      <td>5</td>\n",
       "      <td>0</td>\n",
       "      <td>33.0</td>\n",
       "      <td>33.0</td>\n",
       "      <td>Finalizado/Pago</td>\n",
       "      <td>NaN</td>\n",
       "    </tr>\n",
       "    <tr>\n",
       "      <th>2</th>\n",
       "      <td>3858</td>\n",
       "      <td>Andre Augusto, o lindo</td>\n",
       "      <td>(61) 99910-6801</td>\n",
       "      <td>Victor</td>\n",
       "      <td>Delivery</td>\n",
       "      <td>Desktop</td>\n",
       "      <td>2020-09-17 21:24:50.721</td>\n",
       "      <td>2020-09-17 21:25:29.358</td>\n",
       "      <td>10.0</td>\n",
       "      <td>0</td>\n",
       "      <td>0</td>\n",
       "      <td>0</td>\n",
       "      <td>10.0</td>\n",
       "      <td>NaN</td>\n",
       "      <td>Finalizado/Fiado</td>\n",
       "      <td>NaN</td>\n",
       "    </tr>\n",
       "    <tr>\n",
       "      <th>3</th>\n",
       "      <td>3857</td>\n",
       "      <td>Claudio Roberto</td>\n",
       "      <td>(61) 98543-5215</td>\n",
       "      <td>Victor</td>\n",
       "      <td>Delivery</td>\n",
       "      <td>MenuDino App/Site</td>\n",
       "      <td>2020-09-17 21:12:13.240</td>\n",
       "      <td>2020-09-17 21:45:56.252</td>\n",
       "      <td>105.0</td>\n",
       "      <td>0</td>\n",
       "      <td>5</td>\n",
       "      <td>0</td>\n",
       "      <td>110.0</td>\n",
       "      <td>110.0</td>\n",
       "      <td>Finalizado/Pago</td>\n",
       "      <td>NaN</td>\n",
       "    </tr>\n",
       "    <tr>\n",
       "      <th>4</th>\n",
       "      <td>3856</td>\n",
       "      <td>Luana Raphaela Sousa Campos</td>\n",
       "      <td>(61) 98662-3212</td>\n",
       "      <td>Victor</td>\n",
       "      <td>Delivery</td>\n",
       "      <td>MenuDino App/Site</td>\n",
       "      <td>2020-09-17 20:44:56.693</td>\n",
       "      <td>2020-09-17 21:22:26.737</td>\n",
       "      <td>45.0</td>\n",
       "      <td>0</td>\n",
       "      <td>5</td>\n",
       "      <td>0</td>\n",
       "      <td>50.0</td>\n",
       "      <td>50.0</td>\n",
       "      <td>Finalizado/Pago</td>\n",
       "      <td>NaN</td>\n",
       "    </tr>\n",
       "  </tbody>\n",
       "</table>\n",
       "</div>"
      ],
      "text/plain": [
       "   Cód. Pedido                      Cliente         Telefone Colaborador   \\\n",
       "0         3860                Stephano Dias  (61) 99575-7786       Victor   \n",
       "1         3859                        Paulo  (61) 98169-3233       Victor   \n",
       "2         3858       Andre Augusto, o lindo  (61) 99910-6801       Victor   \n",
       "3         3857              Claudio Roberto  (61) 98543-5215       Victor   \n",
       "4         3856  Luana Raphaela Sousa Campos  (61) 98662-3212       Victor   \n",
       "\n",
       "           Tipo             Origem               Aberto Em  \\\n",
       "0  Delivery                Desktop 2020-09-17 23:00:29.988   \n",
       "1  Delivery                Desktop 2020-09-17 22:17:19.771   \n",
       "2  Delivery                Desktop 2020-09-17 21:24:50.721   \n",
       "3  Delivery      MenuDino App/Site 2020-09-17 21:12:13.240   \n",
       "4  Delivery      MenuDino App/Site 2020-09-17 20:44:56.693   \n",
       "\n",
       "            Finalizado Em  + Total Itens  + Serviço  + Entrega  - Desconto  \\\n",
       "0 2020-09-17 23:00:59.615            8.0          0          0           0   \n",
       "1 2020-09-17 22:46:16.324           28.0          0          5           0   \n",
       "2 2020-09-17 21:25:29.358           10.0          0          0           0   \n",
       "3 2020-09-17 21:45:56.252          105.0          0          5           0   \n",
       "4 2020-09-17 21:22:26.737           45.0          0          5           0   \n",
       "\n",
       "   = Total a Receber  Total Recebido            Status  Abrir  \n",
       "0                8.0             8.0   Finalizado/Pago    NaN  \n",
       "1               33.0            33.0   Finalizado/Pago    NaN  \n",
       "2               10.0             NaN  Finalizado/Fiado    NaN  \n",
       "3              110.0           110.0   Finalizado/Pago    NaN  \n",
       "4               50.0            50.0   Finalizado/Pago    NaN  "
      ]
     },
     "execution_count": 6,
     "metadata": {},
     "output_type": "execute_result"
    }
   ],
   "source": [
    "df.head()"
   ]
  },
  {
   "cell_type": "markdown",
   "metadata": {},
   "source": [
    "Leozinho, querido, me ajuda aqui?\n",
    "\n",
    "Eu vou escolher uma data base, da coluna 'Finalizado Em', e buscar uma informação: Qual o cliente realizou um pedido anterior a essa data e não pediu posteriormente?\n",
    "\n",
    "Pois bem, eu entendo que tenho que converter as datas abaixo para um formato padrão, exemplo ´´´17/09/2020´´´ e conseguir fazer esse tipo de condicional supracitado.\n",
    "\n",
    "As dúvidas são: \n",
    "1 - Como faço a conversão das datas em um formato padrão (17/09/2020)?\n",
    "2 - Com o formato padrão definido, é possível fazer esse tipo de condicional?\n",
    "3 - Realmente esse é o melhor caminho para resolver esse problema supracitado?\n",
    "\n",
    "Bjus no coração."
   ]
  },
  {
   "cell_type": "code",
   "execution_count": 9,
   "metadata": {},
   "outputs": [
    {
     "data": {
      "text/plain": [
       "0   2020-09-17 23:00:59.615\n",
       "1   2020-09-17 22:46:16.324\n",
       "2   2020-09-17 21:25:29.358\n",
       "3   2020-09-17 21:45:56.252\n",
       "4   2020-09-17 21:22:26.737\n",
       "Name: Finalizado Em, dtype: datetime64[ns]"
      ]
     },
     "execution_count": 9,
     "metadata": {},
     "output_type": "execute_result"
    }
   ],
   "source": [
    "df['Finalizado Em'].head()"
   ]
  },
  {
   "cell_type": "code",
   "execution_count": 57,
   "metadata": {},
   "outputs": [
    {
     "data": {
      "text/html": [
       "<div>\n",
       "<style scoped>\n",
       "    .dataframe tbody tr th:only-of-type {\n",
       "        vertical-align: middle;\n",
       "    }\n",
       "\n",
       "    .dataframe tbody tr th {\n",
       "        vertical-align: top;\n",
       "    }\n",
       "\n",
       "    .dataframe thead th {\n",
       "        text-align: right;\n",
       "    }\n",
       "</style>\n",
       "<table border=\"1\" class=\"dataframe\">\n",
       "  <thead>\n",
       "    <tr style=\"text-align: right;\">\n",
       "      <th></th>\n",
       "      <th>Finalizado Em</th>\n",
       "      <th>Tipo</th>\n",
       "    </tr>\n",
       "  </thead>\n",
       "  <tbody>\n",
       "    <tr>\n",
       "      <th>0</th>\n",
       "      <td>2020-09-17 23:00:59.615</td>\n",
       "      <td>Delivery</td>\n",
       "    </tr>\n",
       "    <tr>\n",
       "      <th>1</th>\n",
       "      <td>2020-09-17 22:46:16.324</td>\n",
       "      <td>Delivery</td>\n",
       "    </tr>\n",
       "    <tr>\n",
       "      <th>2</th>\n",
       "      <td>2020-09-17 21:25:29.358</td>\n",
       "      <td>Delivery</td>\n",
       "    </tr>\n",
       "    <tr>\n",
       "      <th>3</th>\n",
       "      <td>2020-09-17 21:45:56.252</td>\n",
       "      <td>Delivery</td>\n",
       "    </tr>\n",
       "    <tr>\n",
       "      <th>4</th>\n",
       "      <td>2020-09-17 21:22:26.737</td>\n",
       "      <td>Delivery</td>\n",
       "    </tr>\n",
       "  </tbody>\n",
       "</table>\n",
       "</div>"
      ],
      "text/plain": [
       "            Finalizado Em          Tipo\n",
       "0 2020-09-17 23:00:59.615  Delivery    \n",
       "1 2020-09-17 22:46:16.324  Delivery    \n",
       "2 2020-09-17 21:25:29.358  Delivery    \n",
       "3 2020-09-17 21:45:56.252  Delivery    \n",
       "4 2020-09-17 21:22:26.737  Delivery    "
      ]
     },
     "execution_count": 57,
     "metadata": {},
     "output_type": "execute_result"
    }
   ],
   "source": [
    "df[['Finalizado Em', 'Tipo']].head()"
   ]
  },
  {
   "cell_type": "code",
   "execution_count": 65,
   "metadata": {},
   "outputs": [
    {
     "data": {
      "text/plain": [
       "0      False\n",
       "1      False\n",
       "2      False\n",
       "3      False\n",
       "4      False\n",
       "       ...  \n",
       "260     True\n",
       "261     True\n",
       "262     True\n",
       "263     True\n",
       "264     True\n",
       "Name: Finalizado Em, Length: 265, dtype: bool"
      ]
     },
     "execution_count": 65,
     "metadata": {},
     "output_type": "execute_result"
    }
   ],
   "source": [
    "df['Finalizado Em'] < '2020-09-02'"
   ]
  },
  {
   "cell_type": "code",
   "execution_count": 11,
   "metadata": {},
   "outputs": [
    {
     "data": {
      "text/plain": [
       "0   2020-09-17 23:00:59.615\n",
       "1   2020-09-17 22:46:16.324\n",
       "2   2020-09-17 21:25:29.358\n",
       "3   2020-09-17 21:45:56.252\n",
       "4   2020-09-17 21:22:26.737\n",
       "Name: Finalizado Em, dtype: datetime64[ns]"
      ]
     },
     "execution_count": 11,
     "metadata": {},
     "output_type": "execute_result"
    }
   ],
   "source": [
    "datas = df['Finalizado Em']\n",
    "datas.head()"
   ]
  },
  {
   "cell_type": "code",
   "execution_count": 14,
   "metadata": {},
   "outputs": [
    {
     "data": {
      "text/plain": [
       "Timestamp('2020-09-17 23:00:59.615000')"
      ]
     },
     "execution_count": 14,
     "metadata": {},
     "output_type": "execute_result"
    }
   ],
   "source": [
    "datas[0]"
   ]
  },
  {
   "cell_type": "code",
   "execution_count": 31,
   "metadata": {},
   "outputs": [],
   "source": [
    "import datetime"
   ]
  },
  {
   "cell_type": "code",
   "execution_count": 32,
   "metadata": {},
   "outputs": [
    {
     "name": "stdout",
     "output_type": "stream",
     "text": [
      "Date: 2018-06-29\n",
      "Time: 08:15:27.243860\n",
      "Date-time: 2018-06-29 08:15:27.243860\n"
     ]
    }
   ],
   "source": [
    "date_time_str = '29-06-2018 08:15:27.243860'\n",
    "date_time_obj = datetime.datetime.strptime(date_time_str, '%d-%m-%Y %H:%M:%S.%f')\n",
    "\n",
    "print('Date:', date_time_obj.date())\n",
    "print('Time:', date_time_obj.time())\n",
    "print('Date-time:', date_time_obj)"
   ]
  },
  {
   "cell_type": "code",
   "execution_count": 33,
   "metadata": {},
   "outputs": [
    {
     "data": {
      "text/plain": [
       "datetime.datetime"
      ]
     },
     "execution_count": 33,
     "metadata": {},
     "output_type": "execute_result"
    }
   ],
   "source": [
    "type(date_time_obj)"
   ]
  },
  {
   "cell_type": "code",
   "execution_count": 34,
   "metadata": {},
   "outputs": [],
   "source": [
    "from datetime import datetime"
   ]
  },
  {
   "cell_type": "code",
   "execution_count": 37,
   "metadata": {},
   "outputs": [
    {
     "ename": "TypeError",
     "evalue": "an integer is required (got type Timestamp)",
     "output_type": "error",
     "traceback": [
      "\u001b[1;31m---------------------------------------------------------------------------\u001b[0m",
      "\u001b[1;31mTypeError\u001b[0m                                 Traceback (most recent call last)",
      "\u001b[1;32m<ipython-input-37-2e8d8c79c28a>\u001b[0m in \u001b[0;36m<module>\u001b[1;34m\u001b[0m\n\u001b[1;32m----> 1\u001b[1;33m \u001b[0mdate\u001b[0m \u001b[1;33m=\u001b[0m \u001b[0mdatetime\u001b[0m\u001b[1;33m.\u001b[0m\u001b[0mfromtimestamp\u001b[0m\u001b[1;33m(\u001b[0m\u001b[0mdatas\u001b[0m\u001b[1;33m[\u001b[0m\u001b[1;36m0\u001b[0m\u001b[1;33m]\u001b[0m\u001b[1;33m)\u001b[0m\u001b[1;33m\u001b[0m\u001b[1;33m\u001b[0m\u001b[0m\n\u001b[0m",
      "\u001b[1;31mTypeError\u001b[0m: an integer is required (got type Timestamp)"
     ]
    }
   ],
   "source": [
    "date = datetime.fromtimestamp(datas[0])\n"
   ]
  },
  {
   "cell_type": "code",
   "execution_count": 38,
   "metadata": {},
   "outputs": [
    {
     "data": {
      "text/plain": [
       "0     2020-09-17 23:00:59.615\n",
       "1     2020-09-17 22:46:16.324\n",
       "2     2020-09-17 21:25:29.358\n",
       "3     2020-09-17 21:45:56.252\n",
       "4     2020-09-17 21:22:26.737\n",
       "                ...          \n",
       "260   2020-09-01 20:13:22.605\n",
       "261   2020-09-01 19:04:30.257\n",
       "262   2020-09-01 19:28:04.816\n",
       "263   2020-09-01 19:45:09.492\n",
       "264   2020-09-01 19:05:55.511\n",
       "Name: Finalizado Em, Length: 265, dtype: datetime64[ns]"
      ]
     },
     "execution_count": 38,
     "metadata": {},
     "output_type": "execute_result"
    }
   ],
   "source": [
    "datas"
   ]
  },
  {
   "cell_type": "code",
   "execution_count": 41,
   "metadata": {},
   "outputs": [
    {
     "data": {
      "text/plain": [
       "0      False\n",
       "1      False\n",
       "2      False\n",
       "3      False\n",
       "4      False\n",
       "       ...  \n",
       "260     True\n",
       "261     True\n",
       "262     True\n",
       "263     True\n",
       "264     True\n",
       "Name: Finalizado Em, Length: 265, dtype: bool"
      ]
     },
     "execution_count": 41,
     "metadata": {},
     "output_type": "execute_result"
    }
   ],
   "source": [
    "datas2 = datas < '2020-09-02'"
   ]
  },
  {
   "cell_type": "code",
   "execution_count": 44,
   "metadata": {},
   "outputs": [
    {
     "data": {
      "text/plain": [
       "254   2020-09-01 22:48:44.848\n",
       "255   2020-09-01 22:08:05.330\n",
       "256   2020-09-01 21:42:08.639\n",
       "257   2020-09-01 21:09:48.281\n",
       "258   2020-09-01 20:32:59.676\n",
       "259   2020-09-01 20:07:48.318\n",
       "260   2020-09-01 20:13:22.605\n",
       "261   2020-09-01 19:04:30.257\n",
       "262   2020-09-01 19:28:04.816\n",
       "263   2020-09-01 19:45:09.492\n",
       "264   2020-09-01 19:05:55.511\n",
       "Name: Finalizado Em, dtype: datetime64[ns]"
      ]
     },
     "execution_count": 44,
     "metadata": {},
     "output_type": "execute_result"
    }
   ],
   "source": [
    "datas2 = datas[datas < '2020-09-02']\n",
    "datas2"
   ]
  },
  {
   "cell_type": "code",
   "execution_count": 46,
   "metadata": {},
   "outputs": [
    {
     "data": {
      "text/plain": [
       "(11,)"
      ]
     },
     "execution_count": 46,
     "metadata": {},
     "output_type": "execute_result"
    }
   ],
   "source": [
    "datas2.shape"
   ]
  },
  {
   "cell_type": "code",
   "execution_count": 47,
   "metadata": {},
   "outputs": [
    {
     "data": {
      "text/plain": [
       "Int64Index([254, 255, 256, 257, 258, 259, 260, 261, 262, 263, 264], dtype='int64')"
      ]
     },
     "execution_count": 47,
     "metadata": {},
     "output_type": "execute_result"
    }
   ],
   "source": [
    "datas2.index"
   ]
  },
  {
   "cell_type": "code",
   "execution_count": 48,
   "metadata": {},
   "outputs": [
    {
     "data": {
      "text/plain": [
       "Timestamp('2020-09-01 19:04:30.257000')"
      ]
     },
     "execution_count": 48,
     "metadata": {},
     "output_type": "execute_result"
    }
   ],
   "source": [
    "datas2[261]"
   ]
  },
  {
   "cell_type": "code",
   "execution_count": null,
   "metadata": {},
   "outputs": [],
   "source": []
  }
 ],
 "metadata": {
  "kernelspec": {
   "display_name": "Python 3",
   "language": "python",
   "name": "python3"
  },
  "language_info": {
   "codemirror_mode": {
    "name": "ipython",
    "version": 3
   },
   "file_extension": ".py",
   "mimetype": "text/x-python",
   "name": "python",
   "nbconvert_exporter": "python",
   "pygments_lexer": "ipython3",
   "version": "3.8.3"
  }
 },
 "nbformat": 4,
 "nbformat_minor": 4
}
