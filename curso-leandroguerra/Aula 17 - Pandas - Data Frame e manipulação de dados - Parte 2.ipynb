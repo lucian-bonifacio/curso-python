{
 "cells": [
  {
   "cell_type": "markdown",
   "metadata": {},
   "source": [
    "### Motivação: Realizar operações básicas e lidar com dados faltantes - missing values"
   ]
  },
  {
   "cell_type": "markdown",
   "metadata": {},
   "source": [
    "_______________________________________"
   ]
  },
  {
   "cell_type": "code",
   "execution_count": null,
   "metadata": {},
   "outputs": [],
   "source": [
    "# Importando a Biblioteca\n",
    "\n",
    "import pandas as pd"
   ]
  },
  {
   "cell_type": "code",
   "execution_count": null,
   "metadata": {},
   "outputs": [],
   "source": [
    "# Configurando o ambiente de trabalho\n",
    "\n",
    "# Mostra qual é o diretorio de trabalho atual\n",
    "import os\n",
    "\n",
    "# Muda o diretorio de trabalho\n",
    "os.chdir(\"C:\\\\Users\\\\engle\\\\OM Na Pratica\\\\Python\\\\Bases de Dados\")"
   ]
  },
  {
   "cell_type": "code",
   "execution_count": null,
   "metadata": {},
   "outputs": [],
   "source": [
    "# Carregando nossa base de dados\n",
    "\n",
    "# Facebook Metrics - The data is related to posts' published during the year of 2014 on the Facebook's page \n",
    "# of a renowned cosmetics brand.\n",
    "\n",
    "facebook = pd.read_csv(\"dataset_Facebook.csv\", sep = \";\")\n"
   ]
  },
  {
   "cell_type": "code",
   "execution_count": null,
   "metadata": {
    "scrolled": true
   },
   "outputs": [],
   "source": [
    "# Fazendo um check rapido\n",
    "\n",
    "facebook.columns"
   ]
  },
  {
   "cell_type": "code",
   "execution_count": null,
   "metadata": {},
   "outputs": [],
   "source": [
    "facebook.shape"
   ]
  },
  {
   "cell_type": "code",
   "execution_count": null,
   "metadata": {
    "scrolled": true
   },
   "outputs": [],
   "source": [
    "# Lembrando apenas que voce pode fazer um loop também dentro de um data frame\n",
    "\n",
    "for comentario in facebook[\"comment\"]:\n",
    "    print(comentario)"
   ]
  },
  {
   "cell_type": "code",
   "execution_count": null,
   "metadata": {},
   "outputs": [],
   "source": [
    "# E que voce pode criar um subset do seu data frame\n",
    "\n",
    "fb_subset = facebook[[\"Lifetime People who have liked your Page and engaged with your post\", \"Paid\", \"Post Weekday\"]]\n",
    "\n",
    "fb_subset.head()"
   ]
  },
  {
   "cell_type": "code",
   "execution_count": null,
   "metadata": {},
   "outputs": [],
   "source": [
    "# E realizar as operaçoes basicas - aqui escolhemos apenas uma das colunas\n",
    "\n",
    "print(fb_subset[\"Lifetime People who have liked your Page and engaged with your post\"].sum())\n",
    "print(fb_subset[\"Lifetime People who have liked your Page and engaged with your post\"].mean())\n",
    "print(fb_subset[\"Lifetime People who have liked your Page and engaged with your post\"].median())\n",
    "print(fb_subset[\"Lifetime People who have liked your Page and engaged with your post\"].max())\n",
    "print(fb_subset[\"Lifetime People who have liked your Page and engaged with your post\"].min())"
   ]
  },
  {
   "cell_type": "code",
   "execution_count": null,
   "metadata": {},
   "outputs": [],
   "source": [
    "# E fazer agrupamentos\n",
    "\n",
    "fb_subset.groupby([\"Post Weekday\"]).sum()"
   ]
  },
  {
   "cell_type": "code",
   "execution_count": null,
   "metadata": {},
   "outputs": [],
   "source": [
    "fb_subset.groupby([\"Post Weekday\"]).mean()"
   ]
  },
  {
   "cell_type": "code",
   "execution_count": null,
   "metadata": {},
   "outputs": [],
   "source": [
    "# Uma coisa importante é sempre lembrar que existem dados faltantes na sua base - missing values\n",
    "\n",
    "facebook.isnull()"
   ]
  },
  {
   "cell_type": "code",
   "execution_count": null,
   "metadata": {
    "scrolled": true
   },
   "outputs": [],
   "source": [
    "facebook.isnull().sum()"
   ]
  },
  {
   "cell_type": "code",
   "execution_count": null,
   "metadata": {},
   "outputs": [],
   "source": [
    "facebook.isna().sum()"
   ]
  },
  {
   "cell_type": "code",
   "execution_count": null,
   "metadata": {},
   "outputs": [],
   "source": [
    "# E voce pode retirà-los da sua base\n",
    "\n",
    "# Criando uma variavel auxiliar que contem os valores que voce quer manter \n",
    "\n",
    "manter = pd.notnull(facebook[\"share\"])  "
   ]
  },
  {
   "cell_type": "code",
   "execution_count": null,
   "metadata": {},
   "outputs": [],
   "source": [
    "# E depois filtrando a base original\n",
    "\n",
    "facebook_filtrado = facebook[manter] "
   ]
  },
  {
   "cell_type": "code",
   "execution_count": null,
   "metadata": {},
   "outputs": [],
   "source": [
    "facebook_filtrado.shape"
   ]
  },
  {
   "cell_type": "code",
   "execution_count": null,
   "metadata": {},
   "outputs": [],
   "source": [
    "# Voce pode realizar uma mesma açao - que pode ser mais completa - com o dropna()\n",
    "\n",
    "facebook_filtrado = facebook.dropna() \n",
    "\n",
    "facebook_filtrado.shape"
   ]
  },
  {
   "cell_type": "markdown",
   "metadata": {},
   "source": [
    "#### O resultado foi diferente do anterior porque aqui voce eliminou todos os NA\n",
    "#### Existem diversos tipos de missing - NA, NaN e null"
   ]
  },
  {
   "cell_type": "code",
   "execution_count": null,
   "metadata": {},
   "outputs": [],
   "source": [
    "# Voce pode eliminar todos ao mesmo tempo utilizando:\n",
    "\n",
    "facebook_filtrado = facebook.dropna(axis = 0) \n",
    "\n",
    "facebook_filtrado.shape"
   ]
  },
  {
   "cell_type": "code",
   "execution_count": null,
   "metadata": {},
   "outputs": [],
   "source": [
    "# Se fizer axis = 1, voce elimina as colunas que conten os registros, mantendo porém as linhas\n",
    "\n",
    "facebook_filtrado = facebook.dropna(axis = 1) \n",
    "\n",
    "facebook_filtrado.shape"
   ]
  },
  {
   "cell_type": "code",
   "execution_count": null,
   "metadata": {},
   "outputs": [],
   "source": [
    "# Ou voce pode escolher preenche-los com alguma outra informaçao\n",
    "\n",
    "# Preenchendo com zeros\n",
    "facebook.fillna(0) \n",
    "\n",
    "# Preenchendo com o valor anterior\n",
    "facebook.fillna(method ='pad') \n",
    "\n",
    "# Ou com o valor posterior\n",
    "facebook.fillna(method ='bfill')\n",
    "\n",
    "# Estes dois ultimos métodos nao sao muito utilizados, mas vale a pena conhecer"
   ]
  },
  {
   "cell_type": "code",
   "execution_count": null,
   "metadata": {},
   "outputs": [],
   "source": [
    "# Ou outro valor que voce escolher\n",
    "\n",
    "# filling a null values using fillna()  \n",
    "facebook[\"share\"].fillna(-99, inplace = True)  "
   ]
  },
  {
   "cell_type": "code",
   "execution_count": null,
   "metadata": {},
   "outputs": [],
   "source": [
    "# Por fim, um método mais sofisticado é estimando uma regressao dos dados faltantes para estimar os faltantes\n",
    "\n",
    "facebook_filtrado = facebook.interpolate(method ='linear', limit_direction ='forward') \n",
    "\n",
    "\n",
    "# Este é um dos métodos mais utilizados para o tratamento de missing values"
   ]
  },
  {
   "cell_type": "code",
   "execution_count": null,
   "metadata": {},
   "outputs": [],
   "source": [
    "# E nao existirao mais nenhum dos dados\n",
    "facebook_filtrado.isnull().sum()"
   ]
  },
  {
   "cell_type": "code",
   "execution_count": null,
   "metadata": {},
   "outputs": [],
   "source": [
    "facebook_filtrado.isna().sum()"
   ]
  }
 ],
 "metadata": {
  "kernelspec": {
   "display_name": "Python 3",
   "language": "python",
   "name": "python3"
  },
  "language_info": {
   "codemirror_mode": {
    "name": "ipython",
    "version": 3
   },
   "file_extension": ".py",
   "mimetype": "text/x-python",
   "name": "python",
   "nbconvert_exporter": "python",
   "pygments_lexer": "ipython3",
   "version": "3.7.4"
  }
 },
 "nbformat": 4,
 "nbformat_minor": 2
}
