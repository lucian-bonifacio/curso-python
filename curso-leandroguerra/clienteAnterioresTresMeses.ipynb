{
  "nbformat": 4,
  "nbformat_minor": 0,
  "metadata": {
    "colab": {
      "name": "clienteTresMeses.ipynb",
      "provenance": []
    },
    "kernelspec": {
      "name": "python3",
      "display_name": "Python 3"
    }
  },
  "cells": [
    {
      "cell_type": "code",
      "metadata": {
        "id": "wy64ujODxazn"
      },
      "source": [
        "import pandas as pd"
      ],
      "execution_count": 1,
      "outputs": []
    },
    {
      "cell_type": "code",
      "metadata": {
        "id": "JdAS4Jyq2TRz",
        "outputId": "16ed2d79-30ec-4a57-e124-4cdbddc2cb42",
        "colab": {
          "base_uri": "https://localhost:8080/",
          "height": 340
        }
      },
      "source": [
        "clientes = pd.read_excel('/content/clientes.xlsx')\n",
        "clientes.head()"
      ],
      "execution_count": 2,
      "outputs": [
        {
          "output_type": "execute_result",
          "data": {
            "text/html": [
              "<div>\n",
              "<style scoped>\n",
              "    .dataframe tbody tr th:only-of-type {\n",
              "        vertical-align: middle;\n",
              "    }\n",
              "\n",
              "    .dataframe tbody tr th {\n",
              "        vertical-align: top;\n",
              "    }\n",
              "\n",
              "    .dataframe thead th {\n",
              "        text-align: right;\n",
              "    }\n",
              "</style>\n",
              "<table border=\"1\" class=\"dataframe\">\n",
              "  <thead>\n",
              "    <tr style=\"text-align: right;\">\n",
              "      <th></th>\n",
              "      <th>Nome</th>\n",
              "      <th>Fone Principal</th>\n",
              "      <th>Celular</th>\n",
              "      <th>Endereço</th>\n",
              "      <th>Num.</th>\n",
              "      <th>E-mail</th>\n",
              "      <th>Qtd. Pedidos</th>\n",
              "      <th>Bairro</th>\n",
              "      <th>Cidade</th>\n",
              "      <th>Código</th>\n",
              "      <th>CEP</th>\n",
              "      <th>CPF ou CNPJ</th>\n",
              "    </tr>\n",
              "  </thead>\n",
              "  <tbody>\n",
              "    <tr>\n",
              "      <th>0</th>\n",
              "      <td>Alberto Amaral</td>\n",
              "      <td>(00) 0000-0000</td>\n",
              "      <td>NaN</td>\n",
              "      <td>R. 37 Sul</td>\n",
              "      <td>13</td>\n",
              "      <td>NaN</td>\n",
              "      <td>2</td>\n",
              "      <td>Águas Claras</td>\n",
              "      <td>Brasília</td>\n",
              "      <td>567</td>\n",
              "      <td>72025065</td>\n",
              "      <td>998.971.301-44</td>\n",
              "    </tr>\n",
              "    <tr>\n",
              "      <th>1</th>\n",
              "      <td>Anderson  Magalhaes</td>\n",
              "      <td>(00) 0000-0000</td>\n",
              "      <td>NaN</td>\n",
              "      <td>EPCT</td>\n",
              "      <td>4530</td>\n",
              "      <td>NaN</td>\n",
              "      <td>1</td>\n",
              "      <td>Taguatinga</td>\n",
              "      <td>Brasília</td>\n",
              "      <td>778</td>\n",
              "      <td>72035503</td>\n",
              "      <td>994.763.391-87</td>\n",
              "    </tr>\n",
              "    <tr>\n",
              "      <th>2</th>\n",
              "      <td>Rafaela Alves</td>\n",
              "      <td>(00) 0000-0000</td>\n",
              "      <td>NaN</td>\n",
              "      <td>Av. das Araucárias</td>\n",
              "      <td>713</td>\n",
              "      <td>NaN</td>\n",
              "      <td>1</td>\n",
              "      <td>Águas Claras</td>\n",
              "      <td>Brasília</td>\n",
              "      <td>661</td>\n",
              "      <td>71925000</td>\n",
              "      <td>992.776.701-34</td>\n",
              "    </tr>\n",
              "    <tr>\n",
              "      <th>3</th>\n",
              "      <td>Daniela Coimbra</td>\n",
              "      <td>(00) 0000-0000</td>\n",
              "      <td>NaN</td>\n",
              "      <td>St. L Norte St. L Norte Qnl 11 Bl A, Bloco A A...</td>\n",
              "      <td>0</td>\n",
              "      <td>NaN</td>\n",
              "      <td>1</td>\n",
              "      <td>Taguatinga</td>\n",
              "      <td>Brasília</td>\n",
              "      <td>852</td>\n",
              "      <td>72151502</td>\n",
              "      <td>978.660.245-53</td>\n",
              "    </tr>\n",
              "    <tr>\n",
              "      <th>4</th>\n",
              "      <td>Sheyla Walescá Alves Dantas</td>\n",
              "      <td>(00) 0000-0000</td>\n",
              "      <td>NaN</td>\n",
              "      <td>R. Ipê Amarelo</td>\n",
              "      <td>8</td>\n",
              "      <td>NaN</td>\n",
              "      <td>2</td>\n",
              "      <td>Águas Claras</td>\n",
              "      <td>Brasília</td>\n",
              "      <td>600</td>\n",
              "      <td>71937360</td>\n",
              "      <td>914.914.605-04</td>\n",
              "    </tr>\n",
              "  </tbody>\n",
              "</table>\n",
              "</div>"
            ],
            "text/plain": [
              "                          Nome  Fone Principal  ...       CEP     CPF ou CNPJ\n",
              "0               Alberto Amaral  (00) 0000-0000  ...  72025065  998.971.301-44\n",
              "1          Anderson  Magalhaes  (00) 0000-0000  ...  72035503  994.763.391-87\n",
              "2                Rafaela Alves  (00) 0000-0000  ...  71925000  992.776.701-34\n",
              "3              Daniela Coimbra  (00) 0000-0000  ...  72151502  978.660.245-53\n",
              "4  Sheyla Walescá Alves Dantas  (00) 0000-0000  ...  71937360  914.914.605-04\n",
              "\n",
              "[5 rows x 12 columns]"
            ]
          },
          "metadata": {
            "tags": []
          },
          "execution_count": 2
        }
      ]
    },
    {
      "cell_type": "code",
      "metadata": {
        "id": "3eSwv8Ll2sRV",
        "outputId": "935c5a63-f070-4452-e49e-eece730b0443",
        "colab": {
          "base_uri": "https://localhost:8080/",
          "height": 68
        }
      },
      "source": [
        "clientes.columns"
      ],
      "execution_count": 3,
      "outputs": [
        {
          "output_type": "execute_result",
          "data": {
            "text/plain": [
              "Index(['Nome', 'Fone Principal', 'Celular', 'Endereço', 'Num.', 'E-mail',\n",
              "       'Qtd. Pedidos', 'Bairro', 'Cidade', 'Código', 'CEP', 'CPF ou CNPJ'],\n",
              "      dtype='object')"
            ]
          },
          "metadata": {
            "tags": []
          },
          "execution_count": 3
        }
      ]
    },
    {
      "cell_type": "code",
      "metadata": {
        "id": "mllntxiY2wd1",
        "outputId": "12e800cf-62b0-4d36-df83-daa019aee4bf",
        "colab": {
          "base_uri": "https://localhost:8080/",
          "height": 204
        }
      },
      "source": [
        "clientes.drop(columns=['Fone Principal', 'Celular', 'Endereço', 'E-mail', 'Bairro', 'Cidade', 'CEP', 'CPF ou CNPJ'], inplace=True)\n",
        "clientes.head()"
      ],
      "execution_count": 5,
      "outputs": [
        {
          "output_type": "execute_result",
          "data": {
            "text/html": [
              "<div>\n",
              "<style scoped>\n",
              "    .dataframe tbody tr th:only-of-type {\n",
              "        vertical-align: middle;\n",
              "    }\n",
              "\n",
              "    .dataframe tbody tr th {\n",
              "        vertical-align: top;\n",
              "    }\n",
              "\n",
              "    .dataframe thead th {\n",
              "        text-align: right;\n",
              "    }\n",
              "</style>\n",
              "<table border=\"1\" class=\"dataframe\">\n",
              "  <thead>\n",
              "    <tr style=\"text-align: right;\">\n",
              "      <th></th>\n",
              "      <th>Nome</th>\n",
              "      <th>Num.</th>\n",
              "      <th>Qtd. Pedidos</th>\n",
              "      <th>Código</th>\n",
              "    </tr>\n",
              "  </thead>\n",
              "  <tbody>\n",
              "    <tr>\n",
              "      <th>0</th>\n",
              "      <td>Alberto Amaral</td>\n",
              "      <td>13</td>\n",
              "      <td>2</td>\n",
              "      <td>567</td>\n",
              "    </tr>\n",
              "    <tr>\n",
              "      <th>1</th>\n",
              "      <td>Anderson  Magalhaes</td>\n",
              "      <td>4530</td>\n",
              "      <td>1</td>\n",
              "      <td>778</td>\n",
              "    </tr>\n",
              "    <tr>\n",
              "      <th>2</th>\n",
              "      <td>Rafaela Alves</td>\n",
              "      <td>713</td>\n",
              "      <td>1</td>\n",
              "      <td>661</td>\n",
              "    </tr>\n",
              "    <tr>\n",
              "      <th>3</th>\n",
              "      <td>Daniela Coimbra</td>\n",
              "      <td>0</td>\n",
              "      <td>1</td>\n",
              "      <td>852</td>\n",
              "    </tr>\n",
              "    <tr>\n",
              "      <th>4</th>\n",
              "      <td>Sheyla Walescá Alves Dantas</td>\n",
              "      <td>8</td>\n",
              "      <td>2</td>\n",
              "      <td>600</td>\n",
              "    </tr>\n",
              "  </tbody>\n",
              "</table>\n",
              "</div>"
            ],
            "text/plain": [
              "                          Nome  Num.  Qtd. Pedidos  Código\n",
              "0               Alberto Amaral    13             2     567\n",
              "1          Anderson  Magalhaes  4530             1     778\n",
              "2                Rafaela Alves   713             1     661\n",
              "3              Daniela Coimbra     0             1     852\n",
              "4  Sheyla Walescá Alves Dantas     8             2     600"
            ]
          },
          "metadata": {
            "tags": []
          },
          "execution_count": 5
        }
      ]
    },
    {
      "cell_type": "code",
      "metadata": {
        "id": "2dKV14iK3JMU",
        "outputId": "d410c3ff-c31d-4cf6-e988-e27672382f13",
        "colab": {
          "base_uri": "https://localhost:8080/",
          "height": 297
        }
      },
      "source": [
        "clientes.describe()"
      ],
      "execution_count": 6,
      "outputs": [
        {
          "output_type": "execute_result",
          "data": {
            "text/html": [
              "<div>\n",
              "<style scoped>\n",
              "    .dataframe tbody tr th:only-of-type {\n",
              "        vertical-align: middle;\n",
              "    }\n",
              "\n",
              "    .dataframe tbody tr th {\n",
              "        vertical-align: top;\n",
              "    }\n",
              "\n",
              "    .dataframe thead th {\n",
              "        text-align: right;\n",
              "    }\n",
              "</style>\n",
              "<table border=\"1\" class=\"dataframe\">\n",
              "  <thead>\n",
              "    <tr style=\"text-align: right;\">\n",
              "      <th></th>\n",
              "      <th>Qtd. Pedidos</th>\n",
              "      <th>Código</th>\n",
              "    </tr>\n",
              "  </thead>\n",
              "  <tbody>\n",
              "    <tr>\n",
              "      <th>count</th>\n",
              "      <td>909.000000</td>\n",
              "      <td>909.000000</td>\n",
              "    </tr>\n",
              "    <tr>\n",
              "      <th>mean</th>\n",
              "      <td>3.976898</td>\n",
              "      <td>458.075908</td>\n",
              "    </tr>\n",
              "    <tr>\n",
              "      <th>std</th>\n",
              "      <td>9.192060</td>\n",
              "      <td>263.740156</td>\n",
              "    </tr>\n",
              "    <tr>\n",
              "      <th>min</th>\n",
              "      <td>0.000000</td>\n",
              "      <td>3.000000</td>\n",
              "    </tr>\n",
              "    <tr>\n",
              "      <th>25%</th>\n",
              "      <td>1.000000</td>\n",
              "      <td>230.000000</td>\n",
              "    </tr>\n",
              "    <tr>\n",
              "      <th>50%</th>\n",
              "      <td>1.000000</td>\n",
              "      <td>457.000000</td>\n",
              "    </tr>\n",
              "    <tr>\n",
              "      <th>75%</th>\n",
              "      <td>4.000000</td>\n",
              "      <td>687.000000</td>\n",
              "    </tr>\n",
              "    <tr>\n",
              "      <th>max</th>\n",
              "      <td>118.000000</td>\n",
              "      <td>914.000000</td>\n",
              "    </tr>\n",
              "  </tbody>\n",
              "</table>\n",
              "</div>"
            ],
            "text/plain": [
              "       Qtd. Pedidos      Código\n",
              "count    909.000000  909.000000\n",
              "mean       3.976898  458.075908\n",
              "std        9.192060  263.740156\n",
              "min        0.000000    3.000000\n",
              "25%        1.000000  230.000000\n",
              "50%        1.000000  457.000000\n",
              "75%        4.000000  687.000000\n",
              "max      118.000000  914.000000"
            ]
          },
          "metadata": {
            "tags": []
          },
          "execution_count": 6
        }
      ]
    },
    {
      "cell_type": "code",
      "metadata": {
        "id": "FBDE-HFv3WS7",
        "outputId": "eebc0ee0-c95e-4403-f46c-bf2dcc8362c1",
        "colab": {
          "base_uri": "https://localhost:8080/",
          "height": 221
        }
      },
      "source": [
        "clientes_duplicados = clientes['Nome'].value_counts() >= 2 \n",
        "clientes_duplicados"
      ],
      "execution_count": 18,
      "outputs": [
        {
          "output_type": "execute_result",
          "data": {
            "text/plain": [
              "Augusto                         True\n",
              "Thaline Saraiva IFOOD           True\n",
              "Renato Kennedy                  True\n",
              "Nathália Maracajá               True\n",
              "Caroline Monte                  True\n",
              "                               ...  \n",
              "Diogo marido Alba              False\n",
              "José Inácio                    False\n",
              "Kamilly Vitória Matoso lima    False\n",
              "Marcelo Brito IFOOD            False\n",
              "Tainara Abrante bonfim         False\n",
              "Name: Nome, Length: 880, dtype: bool"
            ]
          },
          "metadata": {
            "tags": []
          },
          "execution_count": 18
        }
      ]
    },
    {
      "cell_type": "code",
      "metadata": {
        "id": "AfAK3tSn4EX1",
        "outputId": "3e766288-3adc-4504-c4ce-d34fe4b554c4",
        "colab": {
          "base_uri": "https://localhost:8080/",
          "height": 544
        }
      },
      "source": [
        "print(clientes_duplicados[clientes_duplicados])\n",
        "print(clientes_duplicados[clientes_duplicados].count())"
      ],
      "execution_count": 30,
      "outputs": [
        {
          "output_type": "stream",
          "text": [
            "Augusto                              True\n",
            "Thaline Saraiva IFOOD                True\n",
            "Renato Kennedy                       True\n",
            "Nathália Maracajá                    True\n",
            "Caroline Monte                       True\n",
            "nasser clayton bernardino e silva    True\n",
            "Eliane Moraes                        True\n",
            "Geovanna Neri                        True\n",
            "Natane Teles                         True\n",
            "Natane Teles IFOOD                   True\n",
            "Gustavo Lacerda                      True\n",
            "Gabriela Vieira Rocha                True\n",
            "Catarina Lopes                       True\n",
            "Rodolpho Costa                       True\n",
            "Rebeca Mendes                        True\n",
            "Giovanna                             True\n",
            "Adriano Faria IFOOD                  True\n",
            "Gabriel                              True\n",
            "João Victor                          True\n",
            "Danielle                             True\n",
            "Daniel Rangel                        True\n",
            "Ana Carolina                         True\n",
            "Ana Luiza                            True\n",
            "Fernanda Oliveira                    True\n",
            "Maria Clara                          True\n",
            "Cleide Reis                          True\n",
            "Gabriela Cardoso                     True\n",
            "Márcio Lopes                         True\n",
            "Gabriela Sousa                       True\n",
            "Name: Nome, dtype: bool\n",
            "29\n"
          ],
          "name": "stdout"
        }
      ]
    },
    {
      "cell_type": "code",
      "metadata": {
        "id": "O8dC5pl049bf",
        "outputId": "91a29708-2fd2-4f33-8702-b0714ee30ccf",
        "colab": {
          "base_uri": "https://localhost:8080/",
          "height": 419
        }
      },
      "source": [
        "clientes_drop_duplicados = clientes.drop_duplicates(subset=['Nome'])\n",
        "clientes_drop_duplicados"
      ],
      "execution_count": 35,
      "outputs": [
        {
          "output_type": "execute_result",
          "data": {
            "text/html": [
              "<div>\n",
              "<style scoped>\n",
              "    .dataframe tbody tr th:only-of-type {\n",
              "        vertical-align: middle;\n",
              "    }\n",
              "\n",
              "    .dataframe tbody tr th {\n",
              "        vertical-align: top;\n",
              "    }\n",
              "\n",
              "    .dataframe thead th {\n",
              "        text-align: right;\n",
              "    }\n",
              "</style>\n",
              "<table border=\"1\" class=\"dataframe\">\n",
              "  <thead>\n",
              "    <tr style=\"text-align: right;\">\n",
              "      <th></th>\n",
              "      <th>Nome</th>\n",
              "      <th>Num.</th>\n",
              "      <th>Qtd. Pedidos</th>\n",
              "      <th>Código</th>\n",
              "    </tr>\n",
              "  </thead>\n",
              "  <tbody>\n",
              "    <tr>\n",
              "      <th>0</th>\n",
              "      <td>Alberto Amaral</td>\n",
              "      <td>13</td>\n",
              "      <td>2</td>\n",
              "      <td>567</td>\n",
              "    </tr>\n",
              "    <tr>\n",
              "      <th>1</th>\n",
              "      <td>Anderson  Magalhaes</td>\n",
              "      <td>4530</td>\n",
              "      <td>1</td>\n",
              "      <td>778</td>\n",
              "    </tr>\n",
              "    <tr>\n",
              "      <th>2</th>\n",
              "      <td>Rafaela Alves</td>\n",
              "      <td>713</td>\n",
              "      <td>1</td>\n",
              "      <td>661</td>\n",
              "    </tr>\n",
              "    <tr>\n",
              "      <th>3</th>\n",
              "      <td>Daniela Coimbra</td>\n",
              "      <td>0</td>\n",
              "      <td>1</td>\n",
              "      <td>852</td>\n",
              "    </tr>\n",
              "    <tr>\n",
              "      <th>4</th>\n",
              "      <td>Sheyla Walescá Alves Dantas</td>\n",
              "      <td>8</td>\n",
              "      <td>2</td>\n",
              "      <td>600</td>\n",
              "    </tr>\n",
              "    <tr>\n",
              "      <th>...</th>\n",
              "      <td>...</td>\n",
              "      <td>...</td>\n",
              "      <td>...</td>\n",
              "      <td>...</td>\n",
              "    </tr>\n",
              "    <tr>\n",
              "      <th>904</th>\n",
              "      <td>Alba Gonçalves</td>\n",
              "      <td>4</td>\n",
              "      <td>19</td>\n",
              "      <td>343</td>\n",
              "    </tr>\n",
              "    <tr>\n",
              "      <th>905</th>\n",
              "      <td>Agatha Giovanna</td>\n",
              "      <td>alt 1108</td>\n",
              "      <td>4</td>\n",
              "      <td>481</td>\n",
              "    </tr>\n",
              "    <tr>\n",
              "      <th>906</th>\n",
              "      <td>Adriane Da Silva de Albuquerque</td>\n",
              "      <td>08</td>\n",
              "      <td>1</td>\n",
              "      <td>877</td>\n",
              "    </tr>\n",
              "    <tr>\n",
              "      <th>907</th>\n",
              "      <td>Adriana Kely França</td>\n",
              "      <td>Apto 1903</td>\n",
              "      <td>10</td>\n",
              "      <td>450</td>\n",
              "    </tr>\n",
              "    <tr>\n",
              "      <th>908</th>\n",
              "      <td>Abner Pereira</td>\n",
              "      <td>09</td>\n",
              "      <td>7</td>\n",
              "      <td>710</td>\n",
              "    </tr>\n",
              "  </tbody>\n",
              "</table>\n",
              "<p>880 rows × 4 columns</p>\n",
              "</div>"
            ],
            "text/plain": [
              "                                Nome       Num.  Qtd. Pedidos  Código\n",
              "0                     Alberto Amaral         13             2     567\n",
              "1                Anderson  Magalhaes       4530             1     778\n",
              "2                      Rafaela Alves        713             1     661\n",
              "3                    Daniela Coimbra          0             1     852\n",
              "4        Sheyla Walescá Alves Dantas          8             2     600\n",
              "..                               ...        ...           ...     ...\n",
              "904                   Alba Gonçalves          4            19     343\n",
              "905                  Agatha Giovanna   alt 1108             4     481\n",
              "906  Adriane Da Silva de Albuquerque         08             1     877\n",
              "907             Adriana Kely França   Apto 1903            10     450\n",
              "908                    Abner Pereira         09             7     710\n",
              "\n",
              "[880 rows x 4 columns]"
            ]
          },
          "metadata": {
            "tags": []
          },
          "execution_count": 35
        }
      ]
    },
    {
      "cell_type": "code",
      "metadata": {
        "id": "oo0fGczl8CYT",
        "outputId": "d1440354-e37a-4485-e21d-1c6fb6bdabe7",
        "colab": {
          "base_uri": "https://localhost:8080/",
          "height": 360
        }
      },
      "source": [
        "# Agora limpando o DataFrame de pedidos\n",
        "pedidos = pd.read_excel('/content/pedidos.xlsx')\n",
        "pedidos.head()"
      ],
      "execution_count": 70,
      "outputs": [
        {
          "output_type": "execute_result",
          "data": {
            "text/html": [
              "<div>\n",
              "<style scoped>\n",
              "    .dataframe tbody tr th:only-of-type {\n",
              "        vertical-align: middle;\n",
              "    }\n",
              "\n",
              "    .dataframe tbody tr th {\n",
              "        vertical-align: top;\n",
              "    }\n",
              "\n",
              "    .dataframe thead th {\n",
              "        text-align: right;\n",
              "    }\n",
              "</style>\n",
              "<table border=\"1\" class=\"dataframe\">\n",
              "  <thead>\n",
              "    <tr style=\"text-align: right;\">\n",
              "      <th></th>\n",
              "      <th>Cód. Pedido</th>\n",
              "      <th>Cliente</th>\n",
              "      <th>Colaborador</th>\n",
              "      <th>Tipo</th>\n",
              "      <th>Aberto Em</th>\n",
              "      <th>Finalizado Em</th>\n",
              "      <th>Forma Pagamento</th>\n",
              "      <th>+ Serviço</th>\n",
              "      <th>+ Entrega</th>\n",
              "      <th>= Total a Receber</th>\n",
              "      <th>Status</th>\n",
              "      <th>Abrir</th>\n",
              "    </tr>\n",
              "  </thead>\n",
              "  <tbody>\n",
              "    <tr>\n",
              "      <th>0</th>\n",
              "      <td>4125</td>\n",
              "      <td>Thaynara</td>\n",
              "      <td>Lucian</td>\n",
              "      <td>Delivery</td>\n",
              "      <td>2020-10-04 22:54:16.990</td>\n",
              "      <td>2020-10-04 23:34:15.550</td>\n",
              "      <td>Cartão de Crédito</td>\n",
              "      <td>0.0</td>\n",
              "      <td>7.0</td>\n",
              "      <td>72.0</td>\n",
              "      <td>Finalizado/Pago</td>\n",
              "      <td>NaN</td>\n",
              "    </tr>\n",
              "    <tr>\n",
              "      <th>1</th>\n",
              "      <td>4124</td>\n",
              "      <td>Eduarda Mendes</td>\n",
              "      <td>Lucian</td>\n",
              "      <td>Delivery</td>\n",
              "      <td>2020-10-04 22:17:49.753</td>\n",
              "      <td>2020-10-04 22:44:28.804</td>\n",
              "      <td>Cartão de Débito</td>\n",
              "      <td>0.0</td>\n",
              "      <td>0.0</td>\n",
              "      <td>85.0</td>\n",
              "      <td>Finalizado/Pago</td>\n",
              "      <td>NaN</td>\n",
              "    </tr>\n",
              "    <tr>\n",
              "      <th>2</th>\n",
              "      <td>4123</td>\n",
              "      <td>Abner Pereira</td>\n",
              "      <td>Lucian</td>\n",
              "      <td>Delivery</td>\n",
              "      <td>2020-10-04 22:05:43.447</td>\n",
              "      <td>2020-10-04 22:37:58.042</td>\n",
              "      <td>Cartão de Débito</td>\n",
              "      <td>0.0</td>\n",
              "      <td>7.0</td>\n",
              "      <td>45.0</td>\n",
              "      <td>Finalizado/Pago</td>\n",
              "      <td>NaN</td>\n",
              "    </tr>\n",
              "    <tr>\n",
              "      <th>3</th>\n",
              "      <td>4122</td>\n",
              "      <td>Adriana Kely França</td>\n",
              "      <td>Lucian</td>\n",
              "      <td>Delivery</td>\n",
              "      <td>2020-10-04 21:42:58.360</td>\n",
              "      <td>2020-10-04 22:26:07.562</td>\n",
              "      <td>Dinheiro</td>\n",
              "      <td>0.0</td>\n",
              "      <td>5.0</td>\n",
              "      <td>70.0</td>\n",
              "      <td>Finalizado/Pago</td>\n",
              "      <td>NaN</td>\n",
              "    </tr>\n",
              "    <tr>\n",
              "      <th>4</th>\n",
              "      <td>4121</td>\n",
              "      <td>Arthur Eduardo</td>\n",
              "      <td>Lucian</td>\n",
              "      <td>Delivery</td>\n",
              "      <td>2020-10-04 21:25:42.868</td>\n",
              "      <td>2020-10-04 22:26:34.841</td>\n",
              "      <td>Cartão de Débito</td>\n",
              "      <td>0.0</td>\n",
              "      <td>5.0</td>\n",
              "      <td>50.0</td>\n",
              "      <td>Finalizado/Pago</td>\n",
              "      <td>NaN</td>\n",
              "    </tr>\n",
              "  </tbody>\n",
              "</table>\n",
              "</div>"
            ],
            "text/plain": [
              "   Cód. Pedido               Cliente  ...           Status Abrir\n",
              "0         4125             Thaynara   ...  Finalizado/Pago   NaN\n",
              "1         4124        Eduarda Mendes  ...  Finalizado/Pago   NaN\n",
              "2         4123         Abner Pereira  ...  Finalizado/Pago   NaN\n",
              "3         4122  Adriana Kely França   ...  Finalizado/Pago   NaN\n",
              "4         4121        Arthur Eduardo  ...  Finalizado/Pago   NaN\n",
              "\n",
              "[5 rows x 12 columns]"
            ]
          },
          "metadata": {
            "tags": []
          },
          "execution_count": 70
        }
      ]
    },
    {
      "cell_type": "code",
      "metadata": {
        "id": "0rxvzY9Q9sZ2",
        "outputId": "269949dc-b418-4783-a555-efddf628f7e2",
        "colab": {
          "base_uri": "https://localhost:8080/",
          "height": 85
        }
      },
      "source": [
        "pedidos.columns"
      ],
      "execution_count": 71,
      "outputs": [
        {
          "output_type": "execute_result",
          "data": {
            "text/plain": [
              "Index(['Cód. Pedido', 'Cliente', 'Colaborador ', 'Tipo', 'Aberto Em',\n",
              "       'Finalizado Em', 'Forma Pagamento', '+ Serviço', '+ Entrega',\n",
              "       '= Total a Receber', 'Status', 'Abrir'],\n",
              "      dtype='object')"
            ]
          },
          "metadata": {
            "tags": []
          },
          "execution_count": 71
        }
      ]
    },
    {
      "cell_type": "code",
      "metadata": {
        "id": "p2-2LxSu9vN9",
        "outputId": "c8bba359-5171-4489-a09a-09e9b4806744",
        "colab": {
          "base_uri": "https://localhost:8080/",
          "height": 204
        }
      },
      "source": [
        "pedidos.drop(columns=['Cód. Pedido', 'Colaborador ', 'Tipo', 'Finalizado Em', 'Forma Pagamento', '+ Serviço', '+ Entrega',\n",
        "       '= Total a Receber', 'Status', 'Abrir'], inplace=True)\n",
        "pedidos.head()"
      ],
      "execution_count": 72,
      "outputs": [
        {
          "output_type": "execute_result",
          "data": {
            "text/html": [
              "<div>\n",
              "<style scoped>\n",
              "    .dataframe tbody tr th:only-of-type {\n",
              "        vertical-align: middle;\n",
              "    }\n",
              "\n",
              "    .dataframe tbody tr th {\n",
              "        vertical-align: top;\n",
              "    }\n",
              "\n",
              "    .dataframe thead th {\n",
              "        text-align: right;\n",
              "    }\n",
              "</style>\n",
              "<table border=\"1\" class=\"dataframe\">\n",
              "  <thead>\n",
              "    <tr style=\"text-align: right;\">\n",
              "      <th></th>\n",
              "      <th>Cliente</th>\n",
              "      <th>Aberto Em</th>\n",
              "    </tr>\n",
              "  </thead>\n",
              "  <tbody>\n",
              "    <tr>\n",
              "      <th>0</th>\n",
              "      <td>Thaynara</td>\n",
              "      <td>2020-10-04 22:54:16.990</td>\n",
              "    </tr>\n",
              "    <tr>\n",
              "      <th>1</th>\n",
              "      <td>Eduarda Mendes</td>\n",
              "      <td>2020-10-04 22:17:49.753</td>\n",
              "    </tr>\n",
              "    <tr>\n",
              "      <th>2</th>\n",
              "      <td>Abner Pereira</td>\n",
              "      <td>2020-10-04 22:05:43.447</td>\n",
              "    </tr>\n",
              "    <tr>\n",
              "      <th>3</th>\n",
              "      <td>Adriana Kely França</td>\n",
              "      <td>2020-10-04 21:42:58.360</td>\n",
              "    </tr>\n",
              "    <tr>\n",
              "      <th>4</th>\n",
              "      <td>Arthur Eduardo</td>\n",
              "      <td>2020-10-04 21:25:42.868</td>\n",
              "    </tr>\n",
              "  </tbody>\n",
              "</table>\n",
              "</div>"
            ],
            "text/plain": [
              "                Cliente               Aberto Em\n",
              "0             Thaynara  2020-10-04 22:54:16.990\n",
              "1        Eduarda Mendes 2020-10-04 22:17:49.753\n",
              "2         Abner Pereira 2020-10-04 22:05:43.447\n",
              "3  Adriana Kely França  2020-10-04 21:42:58.360\n",
              "4        Arthur Eduardo 2020-10-04 21:25:42.868"
            ]
          },
          "metadata": {
            "tags": []
          },
          "execution_count": 72
        }
      ]
    },
    {
      "cell_type": "code",
      "metadata": {
        "id": "X_aG0s0AH_jR",
        "outputId": "84d78eba-3fae-4e0d-9e2a-d622aa6dced9",
        "colab": {
          "base_uri": "https://localhost:8080/",
          "height": 204
        }
      },
      "source": [
        "pedidos.rename(columns={'Cliente': 'Nome'}, inplace=True)\n",
        "pedidos.head()"
      ],
      "execution_count": 73,
      "outputs": [
        {
          "output_type": "execute_result",
          "data": {
            "text/html": [
              "<div>\n",
              "<style scoped>\n",
              "    .dataframe tbody tr th:only-of-type {\n",
              "        vertical-align: middle;\n",
              "    }\n",
              "\n",
              "    .dataframe tbody tr th {\n",
              "        vertical-align: top;\n",
              "    }\n",
              "\n",
              "    .dataframe thead th {\n",
              "        text-align: right;\n",
              "    }\n",
              "</style>\n",
              "<table border=\"1\" class=\"dataframe\">\n",
              "  <thead>\n",
              "    <tr style=\"text-align: right;\">\n",
              "      <th></th>\n",
              "      <th>Nome</th>\n",
              "      <th>Aberto Em</th>\n",
              "    </tr>\n",
              "  </thead>\n",
              "  <tbody>\n",
              "    <tr>\n",
              "      <th>0</th>\n",
              "      <td>Thaynara</td>\n",
              "      <td>2020-10-04 22:54:16.990</td>\n",
              "    </tr>\n",
              "    <tr>\n",
              "      <th>1</th>\n",
              "      <td>Eduarda Mendes</td>\n",
              "      <td>2020-10-04 22:17:49.753</td>\n",
              "    </tr>\n",
              "    <tr>\n",
              "      <th>2</th>\n",
              "      <td>Abner Pereira</td>\n",
              "      <td>2020-10-04 22:05:43.447</td>\n",
              "    </tr>\n",
              "    <tr>\n",
              "      <th>3</th>\n",
              "      <td>Adriana Kely França</td>\n",
              "      <td>2020-10-04 21:42:58.360</td>\n",
              "    </tr>\n",
              "    <tr>\n",
              "      <th>4</th>\n",
              "      <td>Arthur Eduardo</td>\n",
              "      <td>2020-10-04 21:25:42.868</td>\n",
              "    </tr>\n",
              "  </tbody>\n",
              "</table>\n",
              "</div>"
            ],
            "text/plain": [
              "                   Nome               Aberto Em\n",
              "0             Thaynara  2020-10-04 22:54:16.990\n",
              "1        Eduarda Mendes 2020-10-04 22:17:49.753\n",
              "2         Abner Pereira 2020-10-04 22:05:43.447\n",
              "3  Adriana Kely França  2020-10-04 21:42:58.360\n",
              "4        Arthur Eduardo 2020-10-04 21:25:42.868"
            ]
          },
          "metadata": {
            "tags": []
          },
          "execution_count": 73
        }
      ]
    },
    {
      "cell_type": "code",
      "metadata": {
        "id": "15pQrCt--G-O",
        "outputId": "620af507-29c5-4461-f61c-2fcc257210f4",
        "colab": {
          "base_uri": "https://localhost:8080/",
          "height": 289
        }
      },
      "source": [
        "pedidos.describe()"
      ],
      "execution_count": 74,
      "outputs": [
        {
          "output_type": "stream",
          "text": [
            "/usr/local/lib/python3.6/dist-packages/ipykernel_launcher.py:1: FutureWarning: Treating datetime data as categorical rather than numeric in `.describe` is deprecated and will be removed in a future version of pandas. Specify `datetime_is_numeric=True` to silence this warning and adopt the future behavior now.\n",
            "  \"\"\"Entry point for launching an IPython kernel.\n"
          ],
          "name": "stderr"
        },
        {
          "output_type": "execute_result",
          "data": {
            "text/html": [
              "<div>\n",
              "<style scoped>\n",
              "    .dataframe tbody tr th:only-of-type {\n",
              "        vertical-align: middle;\n",
              "    }\n",
              "\n",
              "    .dataframe tbody tr th {\n",
              "        vertical-align: top;\n",
              "    }\n",
              "\n",
              "    .dataframe thead th {\n",
              "        text-align: right;\n",
              "    }\n",
              "</style>\n",
              "<table border=\"1\" class=\"dataframe\">\n",
              "  <thead>\n",
              "    <tr style=\"text-align: right;\">\n",
              "      <th></th>\n",
              "      <th>Nome</th>\n",
              "      <th>Aberto Em</th>\n",
              "    </tr>\n",
              "  </thead>\n",
              "  <tbody>\n",
              "    <tr>\n",
              "      <th>count</th>\n",
              "      <td>3627</td>\n",
              "      <td>3627</td>\n",
              "    </tr>\n",
              "    <tr>\n",
              "      <th>unique</th>\n",
              "      <td>866</td>\n",
              "      <td>3627</td>\n",
              "    </tr>\n",
              "    <tr>\n",
              "      <th>top</th>\n",
              "      <td>Andre Augusto, o lindo</td>\n",
              "      <td>2020-03-26 22:07:47.884000</td>\n",
              "    </tr>\n",
              "    <tr>\n",
              "      <th>freq</th>\n",
              "      <td>118</td>\n",
              "      <td>1</td>\n",
              "    </tr>\n",
              "    <tr>\n",
              "      <th>first</th>\n",
              "      <td>NaN</td>\n",
              "      <td>2020-01-04 19:36:36.561000</td>\n",
              "    </tr>\n",
              "    <tr>\n",
              "      <th>last</th>\n",
              "      <td>NaN</td>\n",
              "      <td>2020-10-04 22:54:16.990000</td>\n",
              "    </tr>\n",
              "  </tbody>\n",
              "</table>\n",
              "</div>"
            ],
            "text/plain": [
              "                          Nome                   Aberto Em\n",
              "count                     3627                        3627\n",
              "unique                     866                        3627\n",
              "top     Andre Augusto, o lindo  2020-03-26 22:07:47.884000\n",
              "freq                       118                           1\n",
              "first                      NaN  2020-01-04 19:36:36.561000\n",
              "last                       NaN  2020-10-04 22:54:16.990000"
            ]
          },
          "metadata": {
            "tags": []
          },
          "execution_count": 74
        }
      ]
    },
    {
      "cell_type": "code",
      "metadata": {
        "id": "6aVfKmWA-MS-",
        "outputId": "937c68a3-e12f-42f3-aabb-d23d56f56872",
        "colab": {
          "base_uri": "https://localhost:8080/",
          "height": 221
        }
      },
      "source": [
        "pedidos_duplicados = pedidos['Nome'].value_counts() >= 2\n",
        "pedidos_duplicados"
      ],
      "execution_count": 76,
      "outputs": [
        {
          "output_type": "execute_result",
          "data": {
            "text/plain": [
              "Andre Augusto, o lindo                 True\n",
              "LUCIAN FERRAZ DE ARAUJO BONIFACIO      True\n",
              "Victor Bonifácio                       True\n",
              "Jefferson patriota deep web            True\n",
              "Heber Bonifácio                        True\n",
              "                                      ...  \n",
              "Guiguizão Rei                         False\n",
              "Mayara IFOOD                          False\n",
              "Gustavo Henrique                      False\n",
              "Arthur Gedeão Boaventura Gonçalves    False\n",
              "ANDRÉ MATA OLIVEIRA                   False\n",
              "Name: Nome, Length: 866, dtype: bool"
            ]
          },
          "metadata": {
            "tags": []
          },
          "execution_count": 76
        }
      ]
    },
    {
      "cell_type": "code",
      "metadata": {
        "id": "YkPr_IdY_d5m",
        "outputId": "d11591d0-e2dc-4c75-c19a-9271de883260",
        "colab": {
          "base_uri": "https://localhost:8080/",
          "height": 238
        }
      },
      "source": [
        "print(pedidos_duplicados[pedidos_duplicados].count())\n",
        "print(pedidos_duplicados[pedidos_duplicados])"
      ],
      "execution_count": 77,
      "outputs": [
        {
          "output_type": "stream",
          "text": [
            "448\n",
            "Andre Augusto, o lindo               True\n",
            "LUCIAN FERRAZ DE ARAUJO BONIFACIO    True\n",
            "Victor Bonifácio                     True\n",
            "Jefferson patriota deep web          True\n",
            "Heber Bonifácio                      True\n",
            "                                     ... \n",
            "Bruna Gabriela Pereira Barreiros     True\n",
            "Gabriel                              True\n",
            "Denise Machado                       True\n",
            "Dalilla da Silva Saraiva             True\n",
            "Alberto dos Santos Meira             True\n",
            "Name: Nome, Length: 448, dtype: bool\n"
          ],
          "name": "stdout"
        }
      ]
    },
    {
      "cell_type": "code",
      "metadata": {
        "id": "rB4m7KedAwrq",
        "outputId": "6a30e8fb-68ba-450c-f8a6-2eec7ada4c31",
        "colab": {
          "base_uri": "https://localhost:8080/",
          "height": 419
        }
      },
      "source": [
        "pedidos_drop_duplicados = pedidos.drop_duplicates(subset=['Nome'])\n",
        "pedidos_drop_duplicados"
      ],
      "execution_count": 79,
      "outputs": [
        {
          "output_type": "execute_result",
          "data": {
            "text/html": [
              "<div>\n",
              "<style scoped>\n",
              "    .dataframe tbody tr th:only-of-type {\n",
              "        vertical-align: middle;\n",
              "    }\n",
              "\n",
              "    .dataframe tbody tr th {\n",
              "        vertical-align: top;\n",
              "    }\n",
              "\n",
              "    .dataframe thead th {\n",
              "        text-align: right;\n",
              "    }\n",
              "</style>\n",
              "<table border=\"1\" class=\"dataframe\">\n",
              "  <thead>\n",
              "    <tr style=\"text-align: right;\">\n",
              "      <th></th>\n",
              "      <th>Nome</th>\n",
              "      <th>Aberto Em</th>\n",
              "    </tr>\n",
              "  </thead>\n",
              "  <tbody>\n",
              "    <tr>\n",
              "      <th>0</th>\n",
              "      <td>Thaynara</td>\n",
              "      <td>2020-10-04 22:54:16.990</td>\n",
              "    </tr>\n",
              "    <tr>\n",
              "      <th>1</th>\n",
              "      <td>Eduarda Mendes</td>\n",
              "      <td>2020-10-04 22:17:49.753</td>\n",
              "    </tr>\n",
              "    <tr>\n",
              "      <th>2</th>\n",
              "      <td>Abner Pereira</td>\n",
              "      <td>2020-10-04 22:05:43.447</td>\n",
              "    </tr>\n",
              "    <tr>\n",
              "      <th>3</th>\n",
              "      <td>Adriana Kely França</td>\n",
              "      <td>2020-10-04 21:42:58.360</td>\n",
              "    </tr>\n",
              "    <tr>\n",
              "      <th>4</th>\n",
              "      <td>Arthur Eduardo</td>\n",
              "      <td>2020-10-04 21:25:42.868</td>\n",
              "    </tr>\n",
              "    <tr>\n",
              "      <th>...</th>\n",
              "      <td>...</td>\n",
              "      <td>...</td>\n",
              "    </tr>\n",
              "    <tr>\n",
              "      <th>3565</th>\n",
              "      <td>Paula Spinello</td>\n",
              "      <td>2020-01-11 21:47:11.710</td>\n",
              "    </tr>\n",
              "    <tr>\n",
              "      <th>3566</th>\n",
              "      <td>ISMAEL CARLOS LOPES DUARTE</td>\n",
              "      <td>2020-01-11 20:50:22.213</td>\n",
              "    </tr>\n",
              "    <tr>\n",
              "      <th>3598</th>\n",
              "      <td>Gessyane</td>\n",
              "      <td>2020-01-08 21:16:30.395</td>\n",
              "    </tr>\n",
              "    <tr>\n",
              "      <th>3611</th>\n",
              "      <td>Deise ASTAK</td>\n",
              "      <td>2020-01-07 20:22:18.982</td>\n",
              "    </tr>\n",
              "    <tr>\n",
              "      <th>3612</th>\n",
              "      <td>Daiane ASTAK</td>\n",
              "      <td>2020-01-07 20:21:01.183</td>\n",
              "    </tr>\n",
              "  </tbody>\n",
              "</table>\n",
              "<p>866 rows × 2 columns</p>\n",
              "</div>"
            ],
            "text/plain": [
              "                            Nome               Aberto Em\n",
              "0                      Thaynara  2020-10-04 22:54:16.990\n",
              "1                 Eduarda Mendes 2020-10-04 22:17:49.753\n",
              "2                  Abner Pereira 2020-10-04 22:05:43.447\n",
              "3           Adriana Kely França  2020-10-04 21:42:58.360\n",
              "4                 Arthur Eduardo 2020-10-04 21:25:42.868\n",
              "...                          ...                     ...\n",
              "3565              Paula Spinello 2020-01-11 21:47:11.710\n",
              "3566  ISMAEL CARLOS LOPES DUARTE 2020-01-11 20:50:22.213\n",
              "3598                    Gessyane 2020-01-08 21:16:30.395\n",
              "3611                 Deise ASTAK 2020-01-07 20:22:18.982\n",
              "3612                Daiane ASTAK 2020-01-07 20:21:01.183\n",
              "\n",
              "[866 rows x 2 columns]"
            ]
          },
          "metadata": {
            "tags": []
          },
          "execution_count": 79
        }
      ]
    },
    {
      "cell_type": "code",
      "metadata": {
        "id": "7XMrxAlmBauF",
        "outputId": "72b685a1-6e3b-4bb4-bfd7-2e1afdc90f89",
        "colab": {
          "base_uri": "https://localhost:8080/",
          "height": 419
        }
      },
      "source": [
        "# Nessa tabela de pedidos ainda tenho que separar somente os clientes dos últimos 3 meses.\n",
        "\n",
        "pedidosUltimosTresMeses = pedidos_drop_duplicados[pedidos_drop_duplicados['Aberto Em'] >= '2020-07-01']\n",
        "pedidosUltimosTresMeses"
      ],
      "execution_count": 80,
      "outputs": [
        {
          "output_type": "execute_result",
          "data": {
            "text/html": [
              "<div>\n",
              "<style scoped>\n",
              "    .dataframe tbody tr th:only-of-type {\n",
              "        vertical-align: middle;\n",
              "    }\n",
              "\n",
              "    .dataframe tbody tr th {\n",
              "        vertical-align: top;\n",
              "    }\n",
              "\n",
              "    .dataframe thead th {\n",
              "        text-align: right;\n",
              "    }\n",
              "</style>\n",
              "<table border=\"1\" class=\"dataframe\">\n",
              "  <thead>\n",
              "    <tr style=\"text-align: right;\">\n",
              "      <th></th>\n",
              "      <th>Nome</th>\n",
              "      <th>Aberto Em</th>\n",
              "    </tr>\n",
              "  </thead>\n",
              "  <tbody>\n",
              "    <tr>\n",
              "      <th>0</th>\n",
              "      <td>Thaynara</td>\n",
              "      <td>2020-10-04 22:54:16.990</td>\n",
              "    </tr>\n",
              "    <tr>\n",
              "      <th>1</th>\n",
              "      <td>Eduarda Mendes</td>\n",
              "      <td>2020-10-04 22:17:49.753</td>\n",
              "    </tr>\n",
              "    <tr>\n",
              "      <th>2</th>\n",
              "      <td>Abner Pereira</td>\n",
              "      <td>2020-10-04 22:05:43.447</td>\n",
              "    </tr>\n",
              "    <tr>\n",
              "      <th>3</th>\n",
              "      <td>Adriana Kely França</td>\n",
              "      <td>2020-10-04 21:42:58.360</td>\n",
              "    </tr>\n",
              "    <tr>\n",
              "      <th>4</th>\n",
              "      <td>Arthur Eduardo</td>\n",
              "      <td>2020-10-04 21:25:42.868</td>\n",
              "    </tr>\n",
              "    <tr>\n",
              "      <th>...</th>\n",
              "      <td>...</td>\n",
              "      <td>...</td>\n",
              "    </tr>\n",
              "    <tr>\n",
              "      <th>1500</th>\n",
              "      <td>ANA VIRGINIA</td>\n",
              "      <td>2020-07-01 22:26:36.863</td>\n",
              "    </tr>\n",
              "    <tr>\n",
              "      <th>1501</th>\n",
              "      <td>Carolina melo</td>\n",
              "      <td>2020-07-01 22:15:34.795</td>\n",
              "    </tr>\n",
              "    <tr>\n",
              "      <th>1503</th>\n",
              "      <td>Monaliza</td>\n",
              "      <td>2020-07-01 21:39:20.699</td>\n",
              "    </tr>\n",
              "    <tr>\n",
              "      <th>1504</th>\n",
              "      <td>Ferdinando Furlani</td>\n",
              "      <td>2020-07-01 21:30:34.385</td>\n",
              "    </tr>\n",
              "    <tr>\n",
              "      <th>1515</th>\n",
              "      <td>Danielle Martins dos Santos Doralice</td>\n",
              "      <td>2020-07-01 18:52:22.039</td>\n",
              "    </tr>\n",
              "  </tbody>\n",
              "</table>\n",
              "<p>521 rows × 2 columns</p>\n",
              "</div>"
            ],
            "text/plain": [
              "                                       Nome               Aberto Em\n",
              "0                                 Thaynara  2020-10-04 22:54:16.990\n",
              "1                            Eduarda Mendes 2020-10-04 22:17:49.753\n",
              "2                             Abner Pereira 2020-10-04 22:05:43.447\n",
              "3                      Adriana Kely França  2020-10-04 21:42:58.360\n",
              "4                            Arthur Eduardo 2020-10-04 21:25:42.868\n",
              "...                                     ...                     ...\n",
              "1500                           ANA VIRGINIA 2020-07-01 22:26:36.863\n",
              "1501                          Carolina melo 2020-07-01 22:15:34.795\n",
              "1503                               Monaliza 2020-07-01 21:39:20.699\n",
              "1504                     Ferdinando Furlani 2020-07-01 21:30:34.385\n",
              "1515  Danielle Martins dos Santos Doralice  2020-07-01 18:52:22.039\n",
              "\n",
              "[521 rows x 2 columns]"
            ]
          },
          "metadata": {
            "tags": []
          },
          "execution_count": 80
        }
      ]
    },
    {
      "cell_type": "code",
      "metadata": {
        "id": "M1WsaZLvEnjq",
        "outputId": "649d53ac-f0d3-441a-96cb-bd4e580a152e",
        "colab": {
          "base_uri": "https://localhost:8080/",
          "height": 419
        }
      },
      "source": [
        "juntandoTudo = pd.concat([pedidosUltimosTresMeses, clientes_drop_duplicados]) \n",
        "juntandoTudo"
      ],
      "execution_count": 81,
      "outputs": [
        {
          "output_type": "execute_result",
          "data": {
            "text/html": [
              "<div>\n",
              "<style scoped>\n",
              "    .dataframe tbody tr th:only-of-type {\n",
              "        vertical-align: middle;\n",
              "    }\n",
              "\n",
              "    .dataframe tbody tr th {\n",
              "        vertical-align: top;\n",
              "    }\n",
              "\n",
              "    .dataframe thead th {\n",
              "        text-align: right;\n",
              "    }\n",
              "</style>\n",
              "<table border=\"1\" class=\"dataframe\">\n",
              "  <thead>\n",
              "    <tr style=\"text-align: right;\">\n",
              "      <th></th>\n",
              "      <th>Nome</th>\n",
              "      <th>Aberto Em</th>\n",
              "      <th>Num.</th>\n",
              "      <th>Qtd. Pedidos</th>\n",
              "      <th>Código</th>\n",
              "    </tr>\n",
              "  </thead>\n",
              "  <tbody>\n",
              "    <tr>\n",
              "      <th>0</th>\n",
              "      <td>Thaynara</td>\n",
              "      <td>2020-10-04 22:54:16.990</td>\n",
              "      <td>NaN</td>\n",
              "      <td>NaN</td>\n",
              "      <td>NaN</td>\n",
              "    </tr>\n",
              "    <tr>\n",
              "      <th>1</th>\n",
              "      <td>Eduarda Mendes</td>\n",
              "      <td>2020-10-04 22:17:49.753</td>\n",
              "      <td>NaN</td>\n",
              "      <td>NaN</td>\n",
              "      <td>NaN</td>\n",
              "    </tr>\n",
              "    <tr>\n",
              "      <th>2</th>\n",
              "      <td>Abner Pereira</td>\n",
              "      <td>2020-10-04 22:05:43.447</td>\n",
              "      <td>NaN</td>\n",
              "      <td>NaN</td>\n",
              "      <td>NaN</td>\n",
              "    </tr>\n",
              "    <tr>\n",
              "      <th>3</th>\n",
              "      <td>Adriana Kely França</td>\n",
              "      <td>2020-10-04 21:42:58.360</td>\n",
              "      <td>NaN</td>\n",
              "      <td>NaN</td>\n",
              "      <td>NaN</td>\n",
              "    </tr>\n",
              "    <tr>\n",
              "      <th>4</th>\n",
              "      <td>Arthur Eduardo</td>\n",
              "      <td>2020-10-04 21:25:42.868</td>\n",
              "      <td>NaN</td>\n",
              "      <td>NaN</td>\n",
              "      <td>NaN</td>\n",
              "    </tr>\n",
              "    <tr>\n",
              "      <th>...</th>\n",
              "      <td>...</td>\n",
              "      <td>...</td>\n",
              "      <td>...</td>\n",
              "      <td>...</td>\n",
              "      <td>...</td>\n",
              "    </tr>\n",
              "    <tr>\n",
              "      <th>904</th>\n",
              "      <td>Alba Gonçalves</td>\n",
              "      <td>NaT</td>\n",
              "      <td>4</td>\n",
              "      <td>19.0</td>\n",
              "      <td>343.0</td>\n",
              "    </tr>\n",
              "    <tr>\n",
              "      <th>905</th>\n",
              "      <td>Agatha Giovanna</td>\n",
              "      <td>NaT</td>\n",
              "      <td>alt 1108</td>\n",
              "      <td>4.0</td>\n",
              "      <td>481.0</td>\n",
              "    </tr>\n",
              "    <tr>\n",
              "      <th>906</th>\n",
              "      <td>Adriane Da Silva de Albuquerque</td>\n",
              "      <td>NaT</td>\n",
              "      <td>08</td>\n",
              "      <td>1.0</td>\n",
              "      <td>877.0</td>\n",
              "    </tr>\n",
              "    <tr>\n",
              "      <th>907</th>\n",
              "      <td>Adriana Kely França</td>\n",
              "      <td>NaT</td>\n",
              "      <td>Apto 1903</td>\n",
              "      <td>10.0</td>\n",
              "      <td>450.0</td>\n",
              "    </tr>\n",
              "    <tr>\n",
              "      <th>908</th>\n",
              "      <td>Abner Pereira</td>\n",
              "      <td>NaT</td>\n",
              "      <td>09</td>\n",
              "      <td>7.0</td>\n",
              "      <td>710.0</td>\n",
              "    </tr>\n",
              "  </tbody>\n",
              "</table>\n",
              "<p>1401 rows × 5 columns</p>\n",
              "</div>"
            ],
            "text/plain": [
              "                                Nome  ... Código\n",
              "0                          Thaynara   ...    NaN\n",
              "1                     Eduarda Mendes  ...    NaN\n",
              "2                      Abner Pereira  ...    NaN\n",
              "3               Adriana Kely França   ...    NaN\n",
              "4                     Arthur Eduardo  ...    NaN\n",
              "..                               ...  ...    ...\n",
              "904                   Alba Gonçalves  ...  343.0\n",
              "905                  Agatha Giovanna  ...  481.0\n",
              "906  Adriane Da Silva de Albuquerque  ...  877.0\n",
              "907             Adriana Kely França   ...  450.0\n",
              "908                    Abner Pereira  ...  710.0\n",
              "\n",
              "[1401 rows x 5 columns]"
            ]
          },
          "metadata": {
            "tags": []
          },
          "execution_count": 81
        }
      ]
    },
    {
      "cell_type": "code",
      "metadata": {
        "id": "Uk9BtP4CLZ45",
        "outputId": "f3693beb-b897-4148-ea2d-9cc139e75ac9",
        "colab": {
          "base_uri": "https://localhost:8080/",
          "height": 297
        }
      },
      "source": [
        "juntandoTudo.describe()"
      ],
      "execution_count": 87,
      "outputs": [
        {
          "output_type": "execute_result",
          "data": {
            "text/html": [
              "<div>\n",
              "<style scoped>\n",
              "    .dataframe tbody tr th:only-of-type {\n",
              "        vertical-align: middle;\n",
              "    }\n",
              "\n",
              "    .dataframe tbody tr th {\n",
              "        vertical-align: top;\n",
              "    }\n",
              "\n",
              "    .dataframe thead th {\n",
              "        text-align: right;\n",
              "    }\n",
              "</style>\n",
              "<table border=\"1\" class=\"dataframe\">\n",
              "  <thead>\n",
              "    <tr style=\"text-align: right;\">\n",
              "      <th></th>\n",
              "      <th>Qtd. Pedidos</th>\n",
              "      <th>Código</th>\n",
              "    </tr>\n",
              "  </thead>\n",
              "  <tbody>\n",
              "    <tr>\n",
              "      <th>count</th>\n",
              "      <td>880.000000</td>\n",
              "      <td>880.000000</td>\n",
              "    </tr>\n",
              "    <tr>\n",
              "      <th>mean</th>\n",
              "      <td>3.937500</td>\n",
              "      <td>456.721591</td>\n",
              "    </tr>\n",
              "    <tr>\n",
              "      <th>std</th>\n",
              "      <td>9.276658</td>\n",
              "      <td>264.844194</td>\n",
              "    </tr>\n",
              "    <tr>\n",
              "      <th>min</th>\n",
              "      <td>0.000000</td>\n",
              "      <td>3.000000</td>\n",
              "    </tr>\n",
              "    <tr>\n",
              "      <th>25%</th>\n",
              "      <td>1.000000</td>\n",
              "      <td>227.750000</td>\n",
              "    </tr>\n",
              "    <tr>\n",
              "      <th>50%</th>\n",
              "      <td>1.000000</td>\n",
              "      <td>454.500000</td>\n",
              "    </tr>\n",
              "    <tr>\n",
              "      <th>75%</th>\n",
              "      <td>4.000000</td>\n",
              "      <td>686.250000</td>\n",
              "    </tr>\n",
              "    <tr>\n",
              "      <th>max</th>\n",
              "      <td>118.000000</td>\n",
              "      <td>914.000000</td>\n",
              "    </tr>\n",
              "  </tbody>\n",
              "</table>\n",
              "</div>"
            ],
            "text/plain": [
              "       Qtd. Pedidos      Código\n",
              "count    880.000000  880.000000\n",
              "mean       3.937500  456.721591\n",
              "std        9.276658  264.844194\n",
              "min        0.000000    3.000000\n",
              "25%        1.000000  227.750000\n",
              "50%        1.000000  454.500000\n",
              "75%        4.000000  686.250000\n",
              "max      118.000000  914.000000"
            ]
          },
          "metadata": {
            "tags": []
          },
          "execution_count": 87
        }
      ]
    },
    {
      "cell_type": "code",
      "metadata": {
        "id": "y-IAAThPLh-U",
        "outputId": "2c108c1d-bacc-4e52-d4a1-2d84a320e151",
        "colab": {
          "base_uri": "https://localhost:8080/",
          "height": 221
        }
      },
      "source": [
        "teste = juntandoTudo['Nome'].value_counts() >= 2\n",
        "teste"
      ],
      "execution_count": 92,
      "outputs": [
        {
          "output_type": "execute_result",
          "data": {
            "text/plain": [
              "JEAN PAULO BRIDI                    True\n",
              "Jonathan  Lucena                    True\n",
              "Mara Silva                          True\n",
              "Ludmilla oliveira ferreira          True\n",
              "Anderson                            True\n",
              "                                   ...  \n",
              "Brayan                             False\n",
              "Cassiano Moreira Da Silva IFOOD    False\n",
              "Hélcio José                        False\n",
              "Jéssica Lorrane                    False\n",
              "Viviane Pirolo                     False\n",
              "Name: Nome, Length: 880, dtype: bool"
            ]
          },
          "metadata": {
            "tags": []
          },
          "execution_count": 92
        }
      ]
    },
    {
      "cell_type": "code",
      "metadata": {
        "id": "iHv8yElYL6LE",
        "outputId": "cf465f79-c2f2-4639-d040-11392a4175a0",
        "colab": {
          "base_uri": "https://localhost:8080/",
          "height": 221
        }
      },
      "source": [
        "teste[teste]"
      ],
      "execution_count": 93,
      "outputs": [
        {
          "output_type": "execute_result",
          "data": {
            "text/plain": [
              "JEAN PAULO BRIDI                True\n",
              "Jonathan  Lucena                True\n",
              "Mara Silva                      True\n",
              "Ludmilla oliveira ferreira      True\n",
              "Anderson                        True\n",
              "                                ... \n",
              "Peter Gabriel                   True\n",
              "BRUNO FERREIRA                  True\n",
              "Paulo Henrique                  True\n",
              "Júlio César Soares de Souza     True\n",
              "CAMYLA MILANEZ                  True\n",
              "Name: Nome, Length: 521, dtype: bool"
            ]
          },
          "metadata": {
            "tags": []
          },
          "execution_count": 93
        }
      ]
    },
    {
      "cell_type": "code",
      "metadata": {
        "id": "JVN3vqnaJUGt",
        "outputId": "02b3e7c4-b13c-446d-d31e-db16b47eeb04",
        "colab": {
          "base_uri": "https://localhost:8080/",
          "height": 419
        }
      },
      "source": [
        "# Removendo duplicados e, teoricamente, minha tabela final.\n",
        "clientesAnterioresTresMeses = juntandoTudo.drop_duplicates(subset='Nome', keep=False)\n",
        "clientesAnterioresTresMeses"
      ],
      "execution_count": 86,
      "outputs": [
        {
          "output_type": "execute_result",
          "data": {
            "text/html": [
              "<div>\n",
              "<style scoped>\n",
              "    .dataframe tbody tr th:only-of-type {\n",
              "        vertical-align: middle;\n",
              "    }\n",
              "\n",
              "    .dataframe tbody tr th {\n",
              "        vertical-align: top;\n",
              "    }\n",
              "\n",
              "    .dataframe thead th {\n",
              "        text-align: right;\n",
              "    }\n",
              "</style>\n",
              "<table border=\"1\" class=\"dataframe\">\n",
              "  <thead>\n",
              "    <tr style=\"text-align: right;\">\n",
              "      <th></th>\n",
              "      <th>Nome</th>\n",
              "      <th>Aberto Em</th>\n",
              "      <th>Num.</th>\n",
              "      <th>Qtd. Pedidos</th>\n",
              "      <th>Código</th>\n",
              "    </tr>\n",
              "  </thead>\n",
              "  <tbody>\n",
              "    <tr>\n",
              "      <th>28</th>\n",
              "      <td>Valnice Gonçalves da Silva</td>\n",
              "      <td>NaT</td>\n",
              "      <td>31</td>\n",
              "      <td>1.0</td>\n",
              "      <td>584.0</td>\n",
              "    </tr>\n",
              "    <tr>\n",
              "      <th>35</th>\n",
              "      <td>Luís Azevedo</td>\n",
              "      <td>NaT</td>\n",
              "      <td>322</td>\n",
              "      <td>1.0</td>\n",
              "      <td>582.0</td>\n",
              "    </tr>\n",
              "    <tr>\n",
              "      <th>46</th>\n",
              "      <td>Marley Ferreira</td>\n",
              "      <td>NaT</td>\n",
              "      <td>27</td>\n",
              "      <td>1.0</td>\n",
              "      <td>562.0</td>\n",
              "    </tr>\n",
              "    <tr>\n",
              "      <th>81</th>\n",
              "      <td>Daniel dos Anjos Gomes da Silva</td>\n",
              "      <td>NaT</td>\n",
              "      <td>13</td>\n",
              "      <td>1.0</td>\n",
              "      <td>565.0</td>\n",
              "    </tr>\n",
              "    <tr>\n",
              "      <th>86</th>\n",
              "      <td>Paulo César Moreira Leal Filho</td>\n",
              "      <td>NaT</td>\n",
              "      <td>10</td>\n",
              "      <td>1.0</td>\n",
              "      <td>578.0</td>\n",
              "    </tr>\n",
              "    <tr>\n",
              "      <th>...</th>\n",
              "      <td>...</td>\n",
              "      <td>...</td>\n",
              "      <td>...</td>\n",
              "      <td>...</td>\n",
              "      <td>...</td>\n",
              "    </tr>\n",
              "    <tr>\n",
              "      <th>843</th>\n",
              "      <td>Carlos Eduardo Marques</td>\n",
              "      <td>NaT</td>\n",
              "      <td>406</td>\n",
              "      <td>0.0</td>\n",
              "      <td>568.0</td>\n",
              "    </tr>\n",
              "    <tr>\n",
              "      <th>848</th>\n",
              "      <td>Brutal Burger</td>\n",
              "      <td>NaT</td>\n",
              "      <td>20</td>\n",
              "      <td>0.0</td>\n",
              "      <td>522.0</td>\n",
              "    </tr>\n",
              "    <tr>\n",
              "      <th>860</th>\n",
              "      <td>Brayan</td>\n",
              "      <td>NaT</td>\n",
              "      <td>46</td>\n",
              "      <td>1.0</td>\n",
              "      <td>573.0</td>\n",
              "    </tr>\n",
              "    <tr>\n",
              "      <th>878</th>\n",
              "      <td>Angelita Brito Sena</td>\n",
              "      <td>NaT</td>\n",
              "      <td>1803</td>\n",
              "      <td>1.0</td>\n",
              "      <td>590.0</td>\n",
              "    </tr>\n",
              "    <tr>\n",
              "      <th>899</th>\n",
              "      <td>Aline</td>\n",
              "      <td>NaT</td>\n",
              "      <td>11</td>\n",
              "      <td>1.0</td>\n",
              "      <td>575.0</td>\n",
              "    </tr>\n",
              "  </tbody>\n",
              "</table>\n",
              "<p>359 rows × 5 columns</p>\n",
              "</div>"
            ],
            "text/plain": [
              "                                Nome Aberto Em  Num.  Qtd. Pedidos  Código\n",
              "28        Valnice Gonçalves da Silva       NaT    31           1.0   584.0\n",
              "35                      Luís Azevedo       NaT   322           1.0   582.0\n",
              "46                   Marley Ferreira       NaT    27           1.0   562.0\n",
              "81   Daniel dos Anjos Gomes da Silva       NaT    13           1.0   565.0\n",
              "86    Paulo César Moreira Leal Filho       NaT    10           1.0   578.0\n",
              "..                               ...       ...   ...           ...     ...\n",
              "843          Carlos Eduardo Marques        NaT   406           0.0   568.0\n",
              "848                    Brutal Burger       NaT    20           0.0   522.0\n",
              "860                          Brayan        NaT    46           1.0   573.0\n",
              "878              Angelita Brito Sena       NaT  1803           1.0   590.0\n",
              "899                            Aline       NaT    11           1.0   575.0\n",
              "\n",
              "[359 rows x 5 columns]"
            ]
          },
          "metadata": {
            "tags": []
          },
          "execution_count": 86
        }
      ]
    },
    {
      "cell_type": "code",
      "metadata": {
        "id": "hhGDO0eNMcQZ"
      },
      "source": [
        "clientesAnterioresTresMeses.to_csv('clientesAnterioresTresMeses')"
      ],
      "execution_count": 94,
      "outputs": []
    },
    {
      "cell_type": "code",
      "metadata": {
        "id": "7BCCGH8QMrct"
      },
      "source": [
        ""
      ],
      "execution_count": null,
      "outputs": []
    }
  ]
}