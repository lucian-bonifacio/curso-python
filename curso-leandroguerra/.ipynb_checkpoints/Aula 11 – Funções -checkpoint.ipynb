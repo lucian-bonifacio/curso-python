{
 "cells": [
  {
   "cell_type": "code",
   "execution_count": 1,
   "metadata": {},
   "outputs": [],
   "source": [
    "#Sua primeira funcao\n",
    "\n",
    "def soma_quadrados(a,b):\n",
    "    return a*a + b*b"
   ]
  },
  {
   "cell_type": "code",
   "execution_count": 3,
   "metadata": {},
   "outputs": [
    {
     "data": {
      "text/plain": [
       "32"
      ]
     },
     "execution_count": 3,
     "metadata": {},
     "output_type": "execute_result"
    }
   ],
   "source": [
    "#Chamar a funcao\n",
    "\n",
    "soma_quadrados(4,4)"
   ]
  },
  {
   "cell_type": "code",
   "execution_count": 4,
   "metadata": {},
   "outputs": [
    {
     "data": {
      "text/plain": [
       "25"
      ]
     },
     "execution_count": 4,
     "metadata": {},
     "output_type": "execute_result"
    }
   ],
   "source": [
    "#Atribuir a funcao em uma variavel\n",
    "\n",
    "soma = soma_quadrados(3,4)\n",
    "\n",
    "soma"
   ]
  },
  {
   "cell_type": "code",
   "execution_count": 8,
   "metadata": {},
   "outputs": [],
   "source": [
    "#Uma funcao nao precisa ter necessariamente argumentos\n",
    "import datetime\n",
    "\n",
    "def dia_de_hoje():\n",
    "    print(\"Hoje é \" + str(datetime.datetime.now()))\n"
   ]
  },
  {
   "cell_type": "code",
   "execution_count": 9,
   "metadata": {
    "scrolled": true
   },
   "outputs": [
    {
     "name": "stdout",
     "output_type": "stream",
     "text": [
      "Hoje é 2019-08-23 18:03:41.308822\n"
     ]
    }
   ],
   "source": [
    "dia_de_hoje()"
   ]
  },
  {
   "cell_type": "code",
   "execution_count": 10,
   "metadata": {},
   "outputs": [],
   "source": [
    "#Ou pode ter argumento padrao e eu escolher se quero alterar ou nao\n",
    "\n",
    "def dia_de_hoje(texto = \"Hoje é \"):\n",
    "    print(texto + str(datetime.datetime.now()))"
   ]
  },
  {
   "cell_type": "code",
   "execution_count": 11,
   "metadata": {},
   "outputs": [
    {
     "name": "stdout",
     "output_type": "stream",
     "text": [
      "Hoje é 2019-08-23 18:04:35.031043\n"
     ]
    }
   ],
   "source": [
    "dia_de_hoje()"
   ]
  },
  {
   "cell_type": "code",
   "execution_count": 12,
   "metadata": {},
   "outputs": [
    {
     "name": "stdout",
     "output_type": "stream",
     "text": [
      "No Brasil é 2019-08-23 18:04:47.771548\n"
     ]
    }
   ],
   "source": [
    "dia_de_hoje(\"No Brasil é \")"
   ]
  },
  {
   "cell_type": "code",
   "execution_count": 14,
   "metadata": {},
   "outputs": [
    {
     "name": "stdout",
     "output_type": "stream",
     "text": [
      "[ 0.  1.  1.  2.  3.  5.  8. 13. 21. 34.]\n"
     ]
    }
   ],
   "source": [
    "# Vamos simplicar a vida com as funcoes - lembra da nossa sequencia de Fibonacci?\n",
    "import numpy as np\n",
    "\n",
    "n_elementos = 10\n",
    "\n",
    "fibonacci = np.zeros(n_elementos)\n",
    "fibonacci[1] = 1\n",
    "\n",
    "for f in list(range(2, n_elementos)):\n",
    "    fibonacci[f] = fibonacci[f-1] + fibonacci[f-2]\n",
    "    \n",
    "    \n",
    "print(fibonacci)"
   ]
  },
  {
   "cell_type": "code",
   "execution_count": 15,
   "metadata": {},
   "outputs": [],
   "source": [
    "#Transformando ela em funcao\n",
    "\n",
    "def fibonacci(n_elementos):\n",
    "    fibonacci = np.zeros(n_elementos)\n",
    "    fibonacci[1] = 1\n",
    "    for f in list(range(2, n_elementos)):\n",
    "        fibonacci[f] = fibonacci[f-1] + fibonacci[f-2]\n",
    "    print(fibonacci)"
   ]
  },
  {
   "cell_type": "code",
   "execution_count": 20,
   "metadata": {},
   "outputs": [
    {
     "name": "stdout",
     "output_type": "stream",
     "text": [
      "[ 0.  1.  1.  2.  3.  5.  8. 13.]\n"
     ]
    }
   ],
   "source": [
    "fibonacci(8)"
   ]
  },
  {
   "cell_type": "code",
   "execution_count": 21,
   "metadata": {},
   "outputs": [],
   "source": [
    "# Sua rede neural em funcao\n",
    "\n",
    "def minha_rna(inputs,outputs,interacoes):\n",
    "    \n",
    "    # Cria as matrizes de pesos da rede neural - w\n",
    "    w1 = 2*np.random.random((inputs.shape[1], inputs.shape[0])) - 1\n",
    "    w2 = 2*np.random.random((outputs.shape[0], outputs.shape[1])) - 1\n",
    "    \n",
    "    #Treinamento da rede\n",
    "    for interacao in range(interacoes):\n",
    "        camada1 = 1 / (1 + np.exp(-(np.dot(inputs,w1))))\n",
    "        camada2 = 1 / (1 + np.exp(-(np.dot(camada1,w2))))\n",
    "        camada2_delta = (outputs - camada2)*(camada2*(1-camada2))\n",
    "        camada1_delta = camada2_delta.dot(w2.T) * (camada1 * (1-camada1))\n",
    "        w2 += camada1.T.dot(camada2_delta)\n",
    "        w1 += inputs.T.dot(camada1_delta)\n",
    "        \n",
    "    print(camada2.round())"
   ]
  },
  {
   "cell_type": "code",
   "execution_count": 22,
   "metadata": {},
   "outputs": [],
   "source": [
    "# Cria as matrizes de entrada e saida. Neste caso, é a tabela verdade da funçao logica AND (E)\n",
    "\n",
    "entradas = np.array([ [0,0],[0,1],[1,0],[1,1] ])\n",
    "saidas = np.array([[0,0,0,1]]).T"
   ]
  },
  {
   "cell_type": "code",
   "execution_count": 23,
   "metadata": {},
   "outputs": [
    {
     "name": "stdout",
     "output_type": "stream",
     "text": [
      "[[0.]\n",
      " [0.]\n",
      " [0.]\n",
      " [1.]]\n"
     ]
    }
   ],
   "source": [
    "#Chamando a funcao\n",
    "\n",
    "minha_rna(entradas,saidas,1000)"
   ]
  },
  {
   "cell_type": "code",
   "execution_count": 24,
   "metadata": {},
   "outputs": [],
   "source": [
    "#Vamos treinar a rede para funcao OR\n",
    "\n",
    "entradas_or = np.array([ [0,0],[0,1],[1,0],[1,1] ])\n",
    "saidas_or = np.array([[0,1,1,1]]).T"
   ]
  },
  {
   "cell_type": "code",
   "execution_count": 25,
   "metadata": {},
   "outputs": [
    {
     "name": "stdout",
     "output_type": "stream",
     "text": [
      "[[0.]\n",
      " [1.]\n",
      " [1.]\n",
      " [1.]]\n"
     ]
    }
   ],
   "source": [
    "minha_rna(entradas_or,saidas_or,1000)"
   ]
  },
  {
   "cell_type": "code",
   "execution_count": 26,
   "metadata": {},
   "outputs": [],
   "source": [
    "#Vamos treinar a rede para funcao XOR\n",
    "\n",
    "saidas_xor = np.array([[0,1,1,0]]).T"
   ]
  },
  {
   "cell_type": "code",
   "execution_count": 27,
   "metadata": {},
   "outputs": [
    {
     "data": {
      "text/plain": [
       "array([[0],\n",
       "       [1],\n",
       "       [1],\n",
       "       [0]])"
      ]
     },
     "execution_count": 27,
     "metadata": {},
     "output_type": "execute_result"
    }
   ],
   "source": [
    "saidas_xor"
   ]
  },
  {
   "cell_type": "code",
   "execution_count": 29,
   "metadata": {},
   "outputs": [
    {
     "name": "stdout",
     "output_type": "stream",
     "text": [
      "[[0.]\n",
      " [1.]\n",
      " [1.]\n",
      " [0.]]\n"
     ]
    }
   ],
   "source": [
    "minha_rna(entradas,saidas_xor,1000)"
   ]
  }
 ],
 "metadata": {
  "kernelspec": {
   "display_name": "Python 3",
   "language": "python",
   "name": "python3"
  },
  "language_info": {
   "codemirror_mode": {
    "name": "ipython",
    "version": 3
   },
   "file_extension": ".py",
   "mimetype": "text/x-python",
   "name": "python",
   "nbconvert_exporter": "python",
   "pygments_lexer": "ipython3",
   "version": "3.8.3"
  }
 },
 "nbformat": 4,
 "nbformat_minor": 2
}
