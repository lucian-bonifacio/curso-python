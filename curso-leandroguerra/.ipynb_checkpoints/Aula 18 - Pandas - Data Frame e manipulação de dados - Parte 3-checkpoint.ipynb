{
 "cells": [
  {
   "cell_type": "markdown",
   "metadata": {},
   "source": [
    "## Motivaçao\n",
    "\n",
    "- Funçoes descritivas\n",
    "- Agrupamento com o Group By\n",
    "- Filtrando dados com o Group By\n",
    "- Método aggregate\n",
    "- Método transform"
   ]
  },
  {
   "cell_type": "markdown",
   "metadata": {},
   "source": [
    "_______________________________________"
   ]
  },
  {
   "cell_type": "code",
   "execution_count": null,
   "metadata": {},
   "outputs": [],
   "source": [
    "# Importando a Biblioteca\n",
    "\n",
    "import pandas as pd"
   ]
  },
  {
   "cell_type": "code",
   "execution_count": null,
   "metadata": {},
   "outputs": [],
   "source": [
    "# Configurando o ambiente de trabalho\n",
    "\n",
    "# Mostra qual é o diretorio de trabalho atual\n",
    "import os\n",
    "\n",
    "# Muda o diretorio de trabalho\n",
    "os.chdir(\"C:\\\\Users\\\\engle\\\\OM Na Pratica\\\\Python\\\\Bases de Dados\")"
   ]
  },
  {
   "cell_type": "code",
   "execution_count": null,
   "metadata": {},
   "outputs": [],
   "source": [
    "# Carregando nossa base de dados\n",
    "\n",
    "# Facebook Metrics - The data is related to posts' published during the year of 2014 on the Facebook's page \n",
    "# of a renowned cosmetics brand.\n",
    "\n",
    "facebook = pd.read_csv(\"dataset_Facebook.csv\", sep = \";\")"
   ]
  },
  {
   "cell_type": "code",
   "execution_count": null,
   "metadata": {
    "scrolled": false
   },
   "outputs": [],
   "source": [
    "facebook.head(5)"
   ]
  },
  {
   "cell_type": "code",
   "execution_count": null,
   "metadata": {},
   "outputs": [],
   "source": [
    "facebook[\"Type\"]"
   ]
  },
  {
   "cell_type": "markdown",
   "metadata": {},
   "source": [
    "_______________________________________"
   ]
  },
  {
   "cell_type": "markdown",
   "metadata": {},
   "source": [
    "#### Funçoes descritivas no Pandas"
   ]
  },
  {
   "cell_type": "code",
   "execution_count": null,
   "metadata": {},
   "outputs": [],
   "source": [
    "facebook.count()"
   ]
  },
  {
   "cell_type": "code",
   "execution_count": null,
   "metadata": {},
   "outputs": [],
   "source": [
    "facebook.mean()"
   ]
  },
  {
   "cell_type": "code",
   "execution_count": null,
   "metadata": {},
   "outputs": [],
   "source": [
    "facebook.median()"
   ]
  },
  {
   "cell_type": "code",
   "execution_count": null,
   "metadata": {},
   "outputs": [],
   "source": [
    "facebook.min()"
   ]
  },
  {
   "cell_type": "code",
   "execution_count": null,
   "metadata": {},
   "outputs": [],
   "source": [
    "facebook.max()"
   ]
  },
  {
   "cell_type": "code",
   "execution_count": null,
   "metadata": {},
   "outputs": [],
   "source": [
    "facebook.std()"
   ]
  },
  {
   "cell_type": "code",
   "execution_count": null,
   "metadata": {},
   "outputs": [],
   "source": [
    "facebook.var()"
   ]
  },
  {
   "cell_type": "code",
   "execution_count": null,
   "metadata": {},
   "outputs": [],
   "source": [
    "facebook.sum()\n",
    "\n",
    "# Para variàveis categoricas nao farà sentido"
   ]
  },
  {
   "cell_type": "code",
   "execution_count": null,
   "metadata": {},
   "outputs": [],
   "source": [
    "# Obviamente, todas a funçoes acima servem para uma unica coluna\n",
    "facebook[\"Category\"].std()"
   ]
  },
  {
   "cell_type": "code",
   "execution_count": null,
   "metadata": {},
   "outputs": [],
   "source": [
    "facebook.describe()"
   ]
  },
  {
   "cell_type": "markdown",
   "metadata": {},
   "source": [
    "_______________________________________"
   ]
  },
  {
   "cell_type": "markdown",
   "metadata": {},
   "source": [
    "### Agrupamento com group by"
   ]
  },
  {
   "cell_type": "code",
   "execution_count": null,
   "metadata": {},
   "outputs": [],
   "source": [
    "# Vamos supor que precisemos saber a média de cada variaveis, dependendo do tipo de post na base do Facebook\n",
    "\n",
    "facebook.groupby(\"Type\").mean()"
   ]
  },
  {
   "cell_type": "code",
   "execution_count": null,
   "metadata": {
    "scrolled": true
   },
   "outputs": [],
   "source": [
    "# Ou o valor maximo de cada variavel agrupado por hora do post\n",
    "facebook.groupby(\"Post Hour\").max()"
   ]
  },
  {
   "cell_type": "code",
   "execution_count": null,
   "metadata": {},
   "outputs": [],
   "source": [
    "# Mas pode ser que voce nao precise de todas as variaveis ao mesmo tempo...\n",
    "\n",
    "# Vamos pegar a media de like por hora do post\n",
    "\n",
    "facebook.groupby(\"Post Hour\")[\"like\",\"comment\",\"share\"].mean()"
   ]
  },
  {
   "cell_type": "code",
   "execution_count": null,
   "metadata": {},
   "outputs": [],
   "source": [
    "# Ou uma visao mais completa com o método describe()\n",
    "facebook.groupby(\"Post Hour\")[\"like\"].describe()"
   ]
  },
  {
   "cell_type": "code",
   "execution_count": null,
   "metadata": {},
   "outputs": [],
   "source": [
    "# E também pode agrupar por mais de uma variavel\n",
    "\n",
    "# O método unstack (desemplilhar) deixa a visualizaçao mais agradavel\n",
    "\n",
    "facebook.groupby([\"Post Hour\",\"Type\"])[\"like\"].mean().unstack()"
   ]
  },
  {
   "cell_type": "code",
   "execution_count": null,
   "metadata": {},
   "outputs": [],
   "source": [
    "# Os valores missing podem ser um problema\n",
    "# Entao podemos chamar o método fillna também junto com o groupby\n",
    "\n",
    "# Lembramdo que estas operaçoes pode ser armazenadas em uma variavel!!!!\n",
    "\n",
    "post_hours = facebook.groupby([\"Post Hour\",\"Type\"])[\"like\"].mean().unstack().fillna(\"Vazio\")"
   ]
  },
  {
   "cell_type": "code",
   "execution_count": null,
   "metadata": {},
   "outputs": [],
   "source": [
    "# E viram um dataframe qualquer que podem ser usados para outros fins!\n",
    "post_hours"
   ]
  },
  {
   "cell_type": "markdown",
   "metadata": {},
   "source": [
    "_______________________________________"
   ]
  },
  {
   "cell_type": "markdown",
   "metadata": {},
   "source": [
    "### Filtrando dados junto com o group by"
   ]
  },
  {
   "cell_type": "code",
   "execution_count": null,
   "metadata": {},
   "outputs": [],
   "source": [
    "# Vamos supor que precisamos apenas dos registros que tenho o numero de likes menos que a média\n",
    "# Porém, nao filtrando da média total, mas da média por grupo\n",
    "\n",
    "round(facebook[\"like\"].mean())"
   ]
  },
  {
   "cell_type": "code",
   "execution_count": null,
   "metadata": {
    "scrolled": true
   },
   "outputs": [],
   "source": [
    "facebook.groupby(\"Type\")[\"like\"].mean()"
   ]
  },
  {
   "cell_type": "code",
   "execution_count": null,
   "metadata": {},
   "outputs": [],
   "source": [
    "# Quando o codigo abaixo é executado, ele vai apenas retornar os registros dos grupos nos quais\n",
    "# as respectivas médias (média do grupo) sao menores do que o valor inserido\n",
    "\n",
    "def filtro(x):\n",
    "    return x[\"like\"].mean() < 178\n",
    "\n",
    "facebook.groupby(\"Type\").filter(filtro)"
   ]
  },
  {
   "cell_type": "code",
   "execution_count": null,
   "metadata": {},
   "outputs": [],
   "source": [
    "facebook.groupby(\"Type\").filter(filtro).shape"
   ]
  },
  {
   "cell_type": "code",
   "execution_count": null,
   "metadata": {},
   "outputs": [],
   "source": [
    "# Repare que 67 é a soma de 22 com 45 dos tipos Link e Status\n",
    "facebook.groupby(\"Type\").count()"
   ]
  },
  {
   "cell_type": "markdown",
   "metadata": {},
   "source": [
    "_______________________________________"
   ]
  },
  {
   "cell_type": "markdown",
   "metadata": {},
   "source": [
    "### O método aggregate"
   ]
  },
  {
   "cell_type": "code",
   "execution_count": null,
   "metadata": {},
   "outputs": [],
   "source": [
    "# Agora, vamos agrupar e descrever os dados utilizando mais de uma funçao de agregaçao\n",
    "\n",
    "facebook.groupby(\"Type\").aggregate([\"min\", \"max\", \"mean\"])"
   ]
  },
  {
   "cell_type": "code",
   "execution_count": null,
   "metadata": {},
   "outputs": [],
   "source": [
    "facebook.groupby(\"Type\")[\"like\",\"share\"].aggregate([\"min\", \"max\", \"mean\",\"var\"])"
   ]
  },
  {
   "cell_type": "code",
   "execution_count": null,
   "metadata": {},
   "outputs": [],
   "source": [
    "# Mais flexivel ainda, podemos escolher o tipo de operaçao por coluna\n",
    "\n",
    "facebook.groupby(\"Type\").aggregate({\"comment\" : \"mean\"\n",
    "                                   , \"like\" : \"max\"\n",
    "                                   , \"share\" : \"sum\"})"
   ]
  },
  {
   "cell_type": "markdown",
   "metadata": {},
   "source": [
    "_______________________________________"
   ]
  },
  {
   "cell_type": "markdown",
   "metadata": {},
   "source": [
    "### O método transform"
   ]
  },
  {
   "cell_type": "code",
   "execution_count": null,
   "metadata": {
    "scrolled": true
   },
   "outputs": [],
   "source": [
    "# Ele é utilizado nao para descrever a base, mas sim para realizar calculos com o valores agrupados\n",
    "\n",
    "# O codigo a seguir retorna cada registro (linha) e cada campo (variavel/coluna) subtraido pela media\n",
    "# do respectivo grupo Post Hour\n",
    "\n",
    "facebook.groupby(\"Post Hour\").transform(lambda x: x - x.mean())"
   ]
  }
 ],
 "metadata": {
  "kernelspec": {
   "display_name": "Python 3",
   "language": "python",
   "name": "python3"
  },
  "language_info": {
   "codemirror_mode": {
    "name": "ipython",
    "version": 3
   },
   "file_extension": ".py",
   "mimetype": "text/x-python",
   "name": "python",
   "nbconvert_exporter": "python",
   "pygments_lexer": "ipython3",
   "version": "3.8.3"
  }
 },
 "nbformat": 4,
 "nbformat_minor": 2
}
