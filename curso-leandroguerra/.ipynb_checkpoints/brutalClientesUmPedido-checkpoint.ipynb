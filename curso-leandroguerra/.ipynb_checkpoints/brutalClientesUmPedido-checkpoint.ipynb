{
 "cells": [
  {
   "cell_type": "code",
   "execution_count": 1,
   "metadata": {},
   "outputs": [],
   "source": [
    "import pandas as pd"
   ]
  },
  {
   "cell_type": "code",
   "execution_count": 2,
   "metadata": {},
   "outputs": [
    {
     "data": {
      "text/html": [
       "<div>\n",
       "<style scoped>\n",
       "    .dataframe tbody tr th:only-of-type {\n",
       "        vertical-align: middle;\n",
       "    }\n",
       "\n",
       "    .dataframe tbody tr th {\n",
       "        vertical-align: top;\n",
       "    }\n",
       "\n",
       "    .dataframe thead th {\n",
       "        text-align: right;\n",
       "    }\n",
       "</style>\n",
       "<table border=\"1\" class=\"dataframe\">\n",
       "  <thead>\n",
       "    <tr style=\"text-align: right;\">\n",
       "      <th></th>\n",
       "      <th>Cód. Pedido</th>\n",
       "      <th>Cliente</th>\n",
       "      <th>Colaborador</th>\n",
       "      <th>Tipo</th>\n",
       "      <th>Aberto Em</th>\n",
       "      <th>Finalizado Em</th>\n",
       "      <th>+ Serviço</th>\n",
       "      <th>+ Entrega</th>\n",
       "      <th>= Total a Receber</th>\n",
       "      <th>Status</th>\n",
       "      <th>Abrir</th>\n",
       "    </tr>\n",
       "  </thead>\n",
       "  <tbody>\n",
       "    <tr>\n",
       "      <th>0</th>\n",
       "      <td>4026</td>\n",
       "      <td>Alice Amaral</td>\n",
       "      <td>Victor</td>\n",
       "      <td>Delivery</td>\n",
       "      <td>2020-09-29 20:24:02.935</td>\n",
       "      <td>NaT</td>\n",
       "      <td>0.0</td>\n",
       "      <td>5.0</td>\n",
       "      <td>61.5</td>\n",
       "      <td>Em Aberto</td>\n",
       "      <td>NaN</td>\n",
       "    </tr>\n",
       "    <tr>\n",
       "      <th>1</th>\n",
       "      <td>4025</td>\n",
       "      <td>Bruno Bruce</td>\n",
       "      <td>Victor</td>\n",
       "      <td>Delivery</td>\n",
       "      <td>2020-09-29 20:05:20.595</td>\n",
       "      <td>NaT</td>\n",
       "      <td>0.0</td>\n",
       "      <td>3.0</td>\n",
       "      <td>133.0</td>\n",
       "      <td>Em Aberto</td>\n",
       "      <td>NaN</td>\n",
       "    </tr>\n",
       "    <tr>\n",
       "      <th>2</th>\n",
       "      <td>4024</td>\n",
       "      <td>Carlos Rodrigues de Matos</td>\n",
       "      <td>Victor</td>\n",
       "      <td>Delivery</td>\n",
       "      <td>2020-09-29 19:22:18.222</td>\n",
       "      <td>2020-09-29 19:59:48.165</td>\n",
       "      <td>0.0</td>\n",
       "      <td>5.0</td>\n",
       "      <td>70.0</td>\n",
       "      <td>Finalizado/Pago</td>\n",
       "      <td>NaN</td>\n",
       "    </tr>\n",
       "    <tr>\n",
       "      <th>3</th>\n",
       "      <td>4023</td>\n",
       "      <td>Ramon Oliveira</td>\n",
       "      <td>Victor</td>\n",
       "      <td>Delivery</td>\n",
       "      <td>2020-09-29 18:53:34.582</td>\n",
       "      <td>2020-09-29 19:14:30.067</td>\n",
       "      <td>0.0</td>\n",
       "      <td>0.0</td>\n",
       "      <td>73.0</td>\n",
       "      <td>Finalizado/Pago</td>\n",
       "      <td>NaN</td>\n",
       "    </tr>\n",
       "    <tr>\n",
       "      <th>4</th>\n",
       "      <td>4022</td>\n",
       "      <td>Gabriel Mateus</td>\n",
       "      <td>Lucian</td>\n",
       "      <td>Delivery</td>\n",
       "      <td>2020-09-27 22:57:10.687</td>\n",
       "      <td>2020-09-27 23:32:40.083</td>\n",
       "      <td>0.0</td>\n",
       "      <td>5.0</td>\n",
       "      <td>60.0</td>\n",
       "      <td>Finalizado/Pago</td>\n",
       "      <td>NaN</td>\n",
       "    </tr>\n",
       "  </tbody>\n",
       "</table>\n",
       "</div>"
      ],
      "text/plain": [
       "   Cód. Pedido                    Cliente Colaborador           Tipo  \\\n",
       "0         4026              Alice Amaral        Victor  Delivery       \n",
       "1         4025                Bruno Bruce       Victor  Delivery       \n",
       "2         4024  Carlos Rodrigues de Matos       Victor  Delivery       \n",
       "3         4023             Ramon Oliveira       Victor  Delivery       \n",
       "4         4022             Gabriel Mateus       Lucian  Delivery       \n",
       "\n",
       "                Aberto Em           Finalizado Em  + Serviço  + Entrega  \\\n",
       "0 2020-09-29 20:24:02.935                     NaT        0.0        5.0   \n",
       "1 2020-09-29 20:05:20.595                     NaT        0.0        3.0   \n",
       "2 2020-09-29 19:22:18.222 2020-09-29 19:59:48.165        0.0        5.0   \n",
       "3 2020-09-29 18:53:34.582 2020-09-29 19:14:30.067        0.0        0.0   \n",
       "4 2020-09-27 22:57:10.687 2020-09-27 23:32:40.083        0.0        5.0   \n",
       "\n",
       "   = Total a Receber           Status  Abrir  \n",
       "0               61.5        Em Aberto    NaN  \n",
       "1              133.0        Em Aberto    NaN  \n",
       "2               70.0  Finalizado/Pago    NaN  \n",
       "3               73.0  Finalizado/Pago    NaN  \n",
       "4               60.0  Finalizado/Pago    NaN  "
      ]
     },
     "execution_count": 2,
     "metadata": {},
     "output_type": "execute_result"
    }
   ],
   "source": [
    "df = pd.read_excel('E:\\\\Google Drive\\\\PROGRAMAÇÃO\\\\curso-python\\\\curso-leandroguerra\\\\base de dados\\\\clientes-brutal.xlsx')\n",
    "df.head()"
   ]
  },
  {
   "cell_type": "code",
   "execution_count": 3,
   "metadata": {},
   "outputs": [
    {
     "data": {
      "text/plain": [
       "Index(['Cód. Pedido', 'Cliente', 'Colaborador ', 'Tipo', 'Aberto Em',\n",
       "       'Finalizado Em', '+ Serviço', '+ Entrega', '= Total a Receber',\n",
       "       'Status', 'Abrir'],\n",
       "      dtype='object')"
      ]
     },
     "execution_count": 3,
     "metadata": {},
     "output_type": "execute_result"
    }
   ],
   "source": [
    "df.columns"
   ]
  },
  {
   "cell_type": "code",
   "execution_count": 5,
   "metadata": {},
   "outputs": [
    {
     "data": {
      "text/html": [
       "<div>\n",
       "<style scoped>\n",
       "    .dataframe tbody tr th:only-of-type {\n",
       "        vertical-align: middle;\n",
       "    }\n",
       "\n",
       "    .dataframe tbody tr th {\n",
       "        vertical-align: top;\n",
       "    }\n",
       "\n",
       "    .dataframe thead th {\n",
       "        text-align: right;\n",
       "    }\n",
       "</style>\n",
       "<table border=\"1\" class=\"dataframe\">\n",
       "  <thead>\n",
       "    <tr style=\"text-align: right;\">\n",
       "      <th></th>\n",
       "      <th>Cód. Pedido</th>\n",
       "      <th>Cliente</th>\n",
       "      <th>Aberto Em</th>\n",
       "    </tr>\n",
       "  </thead>\n",
       "  <tbody>\n",
       "    <tr>\n",
       "      <th>0</th>\n",
       "      <td>4026</td>\n",
       "      <td>Alice Amaral</td>\n",
       "      <td>2020-09-29 20:24:02.935</td>\n",
       "    </tr>\n",
       "    <tr>\n",
       "      <th>1</th>\n",
       "      <td>4025</td>\n",
       "      <td>Bruno Bruce</td>\n",
       "      <td>2020-09-29 20:05:20.595</td>\n",
       "    </tr>\n",
       "    <tr>\n",
       "      <th>2</th>\n",
       "      <td>4024</td>\n",
       "      <td>Carlos Rodrigues de Matos</td>\n",
       "      <td>2020-09-29 19:22:18.222</td>\n",
       "    </tr>\n",
       "    <tr>\n",
       "      <th>3</th>\n",
       "      <td>4023</td>\n",
       "      <td>Ramon Oliveira</td>\n",
       "      <td>2020-09-29 18:53:34.582</td>\n",
       "    </tr>\n",
       "    <tr>\n",
       "      <th>4</th>\n",
       "      <td>4022</td>\n",
       "      <td>Gabriel Mateus</td>\n",
       "      <td>2020-09-27 22:57:10.687</td>\n",
       "    </tr>\n",
       "  </tbody>\n",
       "</table>\n",
       "</div>"
      ],
      "text/plain": [
       "   Cód. Pedido                    Cliente               Aberto Em\n",
       "0         4026              Alice Amaral  2020-09-29 20:24:02.935\n",
       "1         4025                Bruno Bruce 2020-09-29 20:05:20.595\n",
       "2         4024  Carlos Rodrigues de Matos 2020-09-29 19:22:18.222\n",
       "3         4023             Ramon Oliveira 2020-09-29 18:53:34.582\n",
       "4         4022             Gabriel Mateus 2020-09-27 22:57:10.687"
      ]
     },
     "execution_count": 5,
     "metadata": {},
     "output_type": "execute_result"
    }
   ],
   "source": [
    "df.drop(columns=['Colaborador ', 'Tipo', '+ Serviço', 'Finalizado Em', '+ Entrega', '= Total a Receber', 'Status', 'Abrir'], inplace=True)\n",
    "df.head()"
   ]
  },
  {
   "cell_type": "code",
   "execution_count": 9,
   "metadata": {},
   "outputs": [
    {
     "data": {
      "text/plain": [
       "Andre Augusto, o lindo               False\n",
       "LUCIAN FERRAZ DE ARAUJO BONIFACIO    False\n",
       "Victor Bonifácio                     False\n",
       "Jefferson patriota deep web          False\n",
       "Heber Bonifácio                      False\n",
       "                                     ...  \n",
       "Nathalia Fernandes de Paula           True\n",
       "Fernanda Amaral Melo                  True\n",
       "Angelita Brito Sena                   True\n",
       "Joanna Lacerda                        True\n",
       "Açucena  Lima                         True\n",
       "Name: Cliente, Length: 853, dtype: bool"
      ]
     },
     "execution_count": 9,
     "metadata": {},
     "output_type": "execute_result"
    }
   ],
   "source": [
    "teste = df['Cliente'].value_counts() == 1\n",
    "teste"
   ]
  },
  {
   "cell_type": "code",
   "execution_count": 31,
   "metadata": {},
   "outputs": [
    {
     "data": {
      "text/plain": [
       "Camila Batista da Silva Marinho       True\n",
       "Nathália Cristina de Sampaio Alves    True\n",
       "Heide Bonifácio                       True\n",
       "Denis Roger Faria IFOOD               True\n",
       "Edslanny Barreto                      True\n",
       "                                      ... \n",
       "Nathalia Fernandes de Paula           True\n",
       "Fernanda Amaral Melo                  True\n",
       "Angelita Brito Sena                   True\n",
       "Joanna Lacerda                        True\n",
       "Açucena  Lima                         True\n",
       "Name: Cliente, Length: 414, dtype: bool"
      ]
     },
     "execution_count": 31,
     "metadata": {},
     "output_type": "execute_result"
    }
   ],
   "source": [
    "testeTrue = teste[teste] == True\n",
    "testeTrue"
   ]
  },
  {
   "cell_type": "code",
   "execution_count": 29,
   "metadata": {},
   "outputs": [
    {
     "data": {
      "text/plain": [
       "(853,)"
      ]
     },
     "execution_count": 29,
     "metadata": {},
     "output_type": "execute_result"
    }
   ],
   "source": [
    "teste.shape"
   ]
  },
  {
   "cell_type": "code",
   "execution_count": 32,
   "metadata": {},
   "outputs": [
    {
     "data": {
      "text/plain": [
       "(414,)"
      ]
     },
     "execution_count": 32,
     "metadata": {},
     "output_type": "execute_result"
    }
   ],
   "source": [
    "testeTrue.shape"
   ]
  },
  {
   "cell_type": "code",
   "execution_count": 33,
   "metadata": {},
   "outputs": [
    {
     "data": {
      "text/html": [
       "<div>\n",
       "<style scoped>\n",
       "    .dataframe tbody tr th:only-of-type {\n",
       "        vertical-align: middle;\n",
       "    }\n",
       "\n",
       "    .dataframe tbody tr th {\n",
       "        vertical-align: top;\n",
       "    }\n",
       "\n",
       "    .dataframe thead th {\n",
       "        text-align: right;\n",
       "    }\n",
       "</style>\n",
       "<table border=\"1\" class=\"dataframe\">\n",
       "  <thead>\n",
       "    <tr style=\"text-align: right;\">\n",
       "      <th></th>\n",
       "      <th>Cód. Pedido</th>\n",
       "      <th>Cliente</th>\n",
       "      <th>Aberto Em</th>\n",
       "      <th>teste</th>\n",
       "    </tr>\n",
       "  </thead>\n",
       "  <tbody>\n",
       "    <tr>\n",
       "      <th>0</th>\n",
       "      <td>4026</td>\n",
       "      <td>Alice Amaral</td>\n",
       "      <td>2020-09-29 20:24:02.935</td>\n",
       "      <td>NaN</td>\n",
       "    </tr>\n",
       "    <tr>\n",
       "      <th>1</th>\n",
       "      <td>4025</td>\n",
       "      <td>Bruno Bruce</td>\n",
       "      <td>2020-09-29 20:05:20.595</td>\n",
       "      <td>NaN</td>\n",
       "    </tr>\n",
       "    <tr>\n",
       "      <th>2</th>\n",
       "      <td>4024</td>\n",
       "      <td>Carlos Rodrigues de Matos</td>\n",
       "      <td>2020-09-29 19:22:18.222</td>\n",
       "      <td>NaN</td>\n",
       "    </tr>\n",
       "    <tr>\n",
       "      <th>3</th>\n",
       "      <td>4023</td>\n",
       "      <td>Ramon Oliveira</td>\n",
       "      <td>2020-09-29 18:53:34.582</td>\n",
       "      <td>NaN</td>\n",
       "    </tr>\n",
       "    <tr>\n",
       "      <th>4</th>\n",
       "      <td>4022</td>\n",
       "      <td>Gabriel Mateus</td>\n",
       "      <td>2020-09-27 22:57:10.687</td>\n",
       "      <td>NaN</td>\n",
       "    </tr>\n",
       "  </tbody>\n",
       "</table>\n",
       "</div>"
      ],
      "text/plain": [
       "   Cód. Pedido                    Cliente               Aberto Em teste\n",
       "0         4026              Alice Amaral  2020-09-29 20:24:02.935   NaN\n",
       "1         4025                Bruno Bruce 2020-09-29 20:05:20.595   NaN\n",
       "2         4024  Carlos Rodrigues de Matos 2020-09-29 19:22:18.222   NaN\n",
       "3         4023             Ramon Oliveira 2020-09-29 18:53:34.582   NaN\n",
       "4         4022             Gabriel Mateus 2020-09-27 22:57:10.687   NaN"
      ]
     },
     "execution_count": 33,
     "metadata": {},
     "output_type": "execute_result"
    }
   ],
   "source": [
    "df.head()"
   ]
  }
 ],
 "metadata": {
  "kernelspec": {
   "display_name": "Python 3",
   "language": "python",
   "name": "python3"
  },
  "language_info": {
   "codemirror_mode": {
    "name": "ipython",
    "version": 3
   },
   "file_extension": ".py",
   "mimetype": "text/x-python",
   "name": "python",
   "nbconvert_exporter": "python",
   "pygments_lexer": "ipython3",
   "version": "3.8.3"
  }
 },
 "nbformat": 4,
 "nbformat_minor": 4
}
