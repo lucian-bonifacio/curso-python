{
 "cells": [
  {
   "cell_type": "code",
   "execution_count": 1,
   "metadata": {},
   "outputs": [],
   "source": [
    "import numpy as np"
   ]
  },
  {
   "cell_type": "code",
   "execution_count": 2,
   "metadata": {},
   "outputs": [
    {
     "name": "stdout",
     "output_type": "stream",
     "text": [
      "Numeros inteiros aleatorios\n"
     ]
    },
    {
     "data": {
      "text/plain": [
       "array([ 37, 148, 174, 109, 175, 122,  39,  54, 184,  96,  74, 145,  20,\n",
       "        95, 185, 121,  34,  43, 189, 191,  44,  51,  73,  55, 124,  12,\n",
       "       142, 100, 191,  16, 194,  33,  64,  11,  60, 195,  55, 170, 176,\n",
       "        92,   6, 125, 164,   7,  15, 104,  94,  89, 191, 121])"
      ]
     },
     "execution_count": 2,
     "metadata": {},
     "output_type": "execute_result"
    }
   ],
   "source": [
    "# Outros formas de manipulaçao de arrays\n",
    "\n",
    "print(\"Numeros inteiros aleatorios\")\n",
    "\n",
    "int_numbers = np.random.randint(1, 200, size=50)\n",
    "int_numbers"
   ]
  },
  {
   "cell_type": "code",
   "execution_count": 3,
   "metadata": {},
   "outputs": [
    {
     "data": {
      "text/plain": [
       "array([  6,   7,  11,  12,  15,  16,  20,  33,  34,  37,  39,  43,  44,\n",
       "        51,  54,  55,  55,  60,  64,  73,  74,  89,  92,  94,  95,  96,\n",
       "       100, 104, 109, 121, 121, 122, 124, 125, 142, 145, 148, 164, 170,\n",
       "       174, 175, 176, 184, 185, 189, 191, 191, 191, 194, 195])"
      ]
     },
     "execution_count": 3,
     "metadata": {},
     "output_type": "execute_result"
    }
   ],
   "source": [
    "# Ordenado um array\n",
    "\n",
    "int_numbers.sort()\n",
    "\n",
    "int_numbers"
   ]
  },
  {
   "cell_type": "code",
   "execution_count": 4,
   "metadata": {},
   "outputs": [
    {
     "data": {
      "text/plain": [
       "array([ 6,  7, 11, 12, 15, 16, 20, 33, 34, 37])"
      ]
     },
     "execution_count": 4,
     "metadata": {},
     "output_type": "execute_result"
    }
   ],
   "source": [
    "# Selecionando elementos de um array com base no indice\n",
    "\n",
    "# Primeiros 10 elementos\n",
    "\n",
    "int_numbers[:10]\n"
   ]
  },
  {
   "cell_type": "code",
   "execution_count": 5,
   "metadata": {},
   "outputs": [
    {
     "data": {
      "text/plain": [
       "array([ 55,  55,  60,  64,  73,  74,  89,  92,  94,  95,  96, 100, 104,\n",
       "       109, 121, 121, 122, 124, 125, 142, 145, 148, 164, 170, 174, 175,\n",
       "       176, 184, 185, 189, 191, 191, 191, 194, 195])"
      ]
     },
     "execution_count": 5,
     "metadata": {},
     "output_type": "execute_result"
    }
   ],
   "source": [
    "# Tudo o que vem depois dos 15 primeiros elementos\n",
    "\n",
    "int_numbers[15:]"
   ]
  },
  {
   "cell_type": "code",
   "execution_count": 6,
   "metadata": {},
   "outputs": [
    {
     "data": {
      "text/plain": [
       "array([55, 55, 60, 64, 73])"
      ]
     },
     "execution_count": 6,
     "metadata": {},
     "output_type": "execute_result"
    }
   ],
   "source": [
    "int_numbers[15:20]"
   ]
  },
  {
   "cell_type": "code",
   "execution_count": 7,
   "metadata": {},
   "outputs": [
    {
     "data": {
      "text/plain": [
       "array([  6,  15,  34,  44,  55,  74,  95, 109, 124, 148, 175, 189, 194])"
      ]
     },
     "execution_count": 7,
     "metadata": {},
     "output_type": "execute_result"
    }
   ],
   "source": [
    "# Selecionando os elementos de 2 em 2\n",
    "\n",
    "int_numbers[::4]"
   ]
  },
  {
   "cell_type": "code",
   "execution_count": 8,
   "metadata": {},
   "outputs": [
    {
     "data": {
      "text/plain": [
       "array([195, 194, 191, 191, 191, 189, 185, 184, 176, 175, 174, 170, 164,\n",
       "       148, 145, 142, 125, 124, 122, 121, 121, 109, 104, 100,  96,  95,\n",
       "        94,  92,  89,  74,  73,  64,  60,  55,  55,  54,  51,  44,  43,\n",
       "        39,  37,  34,  33,  20,  16,  15,  12,  11,   7,   6])"
      ]
     },
     "execution_count": 8,
     "metadata": {},
     "output_type": "execute_result"
    }
   ],
   "source": [
    "# Sort decrescente\n",
    "\n",
    "int_numbers[::-1]"
   ]
  },
  {
   "cell_type": "code",
   "execution_count": 9,
   "metadata": {},
   "outputs": [
    {
     "data": {
      "text/plain": [
       "array([  6,   7,  11,  12,  15,  16,  20,  33,  34,  37,  39,  43,  44,\n",
       "        51,  54,  55,  55,  60,  64,  73,  74,  89,  92,  94,  95,  96,\n",
       "       100, 104, 109, 121, 121, 122, 124, 125, 142, 145, 148, 164, 170,\n",
       "       174, 175, 176, 184, 185, 189, 191, 191, 191, 194, 195])"
      ]
     },
     "execution_count": 9,
     "metadata": {},
     "output_type": "execute_result"
    }
   ],
   "source": [
    "int_numbers"
   ]
  },
  {
   "cell_type": "code",
   "execution_count": 10,
   "metadata": {
    "scrolled": true
   },
   "outputs": [
    {
     "data": {
      "text/plain": [
       "array([ 16,  33,  37,  43,  51,  55,  60,  73,  89,  94,  96, 104, 121,\n",
       "       122, 125, 145, 164, 174, 176, 185, 191, 191, 195])"
      ]
     },
     "execution_count": 10,
     "metadata": {},
     "output_type": "execute_result"
    }
   ],
   "source": [
    "# Selecionando os elementos de 2 em 2, começando do indice 5\n",
    "\n",
    "int_numbers[5::2]"
   ]
  },
  {
   "cell_type": "code",
   "execution_count": 11,
   "metadata": {},
   "outputs": [
    {
     "data": {
      "text/plain": [
       "array([  6,   7,  11,  12,  15,  16,  20,  33,  34,  37,  39,  43,  44,\n",
       "        51,  54,  55,  55,  60,  64,  73,  74,  89,  92,  94,  95,  96,\n",
       "       100, 104, 109, 121, 121, 122, 124, 125, 142, 145, 148, 164, 170,\n",
       "       174, 175, 176, 184, 185, 189, 191, 191, 191, 194, 195])"
      ]
     },
     "execution_count": 11,
     "metadata": {},
     "output_type": "execute_result"
    }
   ],
   "source": [
    "int_numbers"
   ]
  },
  {
   "cell_type": "code",
   "execution_count": 12,
   "metadata": {},
   "outputs": [
    {
     "data": {
      "text/plain": [
       "array([   6,   13,   24,   36,   51,   67,   87,  120,  154,  191,  230,\n",
       "        273,  317,  368,  422,  477,  532,  592,  656,  729,  803,  892,\n",
       "        984, 1078, 1173, 1269, 1369, 1473, 1582, 1703, 1824, 1946, 2070,\n",
       "       2195, 2337, 2482, 2630, 2794, 2964, 3138, 3313, 3489, 3673, 3858,\n",
       "       4047, 4238, 4429, 4620, 4814, 5009], dtype=int32)"
      ]
     },
     "execution_count": 12,
     "metadata": {},
     "output_type": "execute_result"
    }
   ],
   "source": [
    "np.cumsum(int_numbers)"
   ]
  },
  {
   "cell_type": "code",
   "execution_count": 13,
   "metadata": {},
   "outputs": [],
   "source": [
    "# Mas para o que serve mesmo tudo isso?\n",
    "\n",
    "# Vamos calcular a media movel de uma sequencia de precos\n",
    "\n",
    "def media_movel(seu_array, n = 5):\n",
    "    valores = np.cumsum(seu_array, dtype=float)\n",
    "    valores[n:] = valores[n:] - valores[:-n]\n",
    "    return valores[n - 1:] / n"
   ]
  },
  {
   "cell_type": "code",
   "execution_count": null,
   "metadata": {},
   "outputs": [],
   "source": [
    "# Simulando um array de precos\n",
    "\n",
    "precos = np.random.uniform(10,10000, size=100).round(2)\n",
    "\n",
    "precos"
   ]
  },
  {
   "cell_type": "code",
   "execution_count": null,
   "metadata": {},
   "outputs": [],
   "source": [
    "# Ajustando o array\n",
    "precos.sort()\n",
    "\n",
    "precos"
   ]
  },
  {
   "cell_type": "code",
   "execution_count": null,
   "metadata": {},
   "outputs": [],
   "source": [
    "# Escolhendo o periodo da média movel\n",
    "\n",
    "p = 8"
   ]
  },
  {
   "cell_type": "code",
   "execution_count": null,
   "metadata": {},
   "outputs": [],
   "source": [
    "mm = media_movel(precos, n = p).round(2)\n",
    "\n",
    "mm"
   ]
  },
  {
   "cell_type": "code",
   "execution_count": null,
   "metadata": {},
   "outputs": [],
   "source": [
    "# Vamos ver no grafico\n",
    "\n",
    "%matplotlib inline\n",
    "\n",
    "import matplotlib.pyplot as plt\n"
   ]
  },
  {
   "cell_type": "code",
   "execution_count": null,
   "metadata": {},
   "outputs": [],
   "source": [
    "plt.plot(precos, label = \"Precos\")\n",
    "plt.plot(range(p ,p +len(mm)),mm, label = 'Media Movel')"
   ]
  },
  {
   "cell_type": "code",
   "execution_count": null,
   "metadata": {},
   "outputs": [],
   "source": [
    "range(p ,p +len(mm))"
   ]
  },
  {
   "cell_type": "code",
   "execution_count": null,
   "metadata": {},
   "outputs": [],
   "source": [
    "plt.plot(range(p ,p + len(mm)), mm, label = 'Media Movel')\n",
    "plt.plot(precos, label = \"Precos\")\n",
    "plt.title('Media Mòvel de 5 periodos da série simulada')\n",
    "plt.xlabel(\"Periodo\")\n",
    "plt.ylabel(\"Preço\");\n",
    "plt.grid()\n",
    "plt.legend()"
   ]
  },
  {
   "cell_type": "code",
   "execution_count": null,
   "metadata": {},
   "outputs": [],
   "source": [
    "# Concatenando arrays\n",
    "\n",
    "a1 = np.array([10, 20, 30, 40])\n",
    "a2 = np.array([7, 8, 9, 10])\n",
    "a3 = np.array([1, 2, 3, 4])\n",
    "\n",
    "a4 = np.concatenate([a1, a3, a2])\n",
    "\n",
    "a4"
   ]
  },
  {
   "cell_type": "code",
   "execution_count": null,
   "metadata": {},
   "outputs": [],
   "source": [
    "# Concatenando arrays multidimensionais (as matrizes)\n",
    "\n",
    "m1 = np.array([[10, 20], [30, 40]])\n",
    "m2 = np.array([[7, 8], [9, 10]])\n",
    "m3 = np.array([[1, 2], [3, 4]])\n",
    "\n",
    "np.concatenate([m1, m2, m3])"
   ]
  },
  {
   "cell_type": "code",
   "execution_count": null,
   "metadata": {},
   "outputs": [],
   "source": [
    "# E também fazer a concatenaçao por linha\n",
    "\n",
    "np.concatenate([m1, m2, m3], axis = 1)"
   ]
  },
  {
   "cell_type": "code",
   "execution_count": null,
   "metadata": {},
   "outputs": [],
   "source": [
    "# Adicionar e remover elementos\n",
    "\n",
    "lista_produtos = np.array([\"Notebook\",\"Microfone\",\"Game\"])\n",
    "\n",
    "lista_produtos"
   ]
  },
  {
   "cell_type": "code",
   "execution_count": null,
   "metadata": {},
   "outputs": [],
   "source": [
    "# Append adiciona um novo item sempre no final do array\n",
    "\n",
    "lista_produtos = np.append(lista_produtos, \"Livro\")\n",
    "\n",
    "lista_produtos"
   ]
  },
  {
   "cell_type": "code",
   "execution_count": null,
   "metadata": {},
   "outputs": [],
   "source": [
    "# Insert adiciona um novo item na posicao desejada\n",
    "\n",
    "lista_produtos = np.insert(lista_produtos,1,\"Celular\")\n",
    "\n",
    "lista_produtos"
   ]
  },
  {
   "cell_type": "code",
   "execution_count": null,
   "metadata": {},
   "outputs": [],
   "source": [
    "# Remover um elemento\n",
    "\n",
    "lista_produtos = np.delete(lista_produtos,[0]) \n",
    "\n",
    "lista_produtos"
   ]
  }
 ],
 "metadata": {
  "kernelspec": {
   "display_name": "Python 3",
   "language": "python",
   "name": "python3"
  },
  "language_info": {
   "codemirror_mode": {
    "name": "ipython",
    "version": 3
   },
   "file_extension": ".py",
   "mimetype": "text/x-python",
   "name": "python",
   "nbconvert_exporter": "python",
   "pygments_lexer": "ipython3",
   "version": "3.8.3"
  }
 },
 "nbformat": 4,
 "nbformat_minor": 2
}
