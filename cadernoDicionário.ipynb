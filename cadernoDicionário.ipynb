{
 "cells": [
  {
   "cell_type": "markdown",
   "metadata": {},
   "source": [
    "**IMPORTAR BIBLIOTECA**"
   ]
  },
  {
   "cell_type": "code",
   "execution_count": 1,
   "metadata": {},
   "outputs": [],
   "source": [
    "import pandas as pd"
   ]
  },
  {
   "cell_type": "markdown",
   "metadata": {},
   "source": [
    "**CRIAR UM DATAFRAME**\n",
    "1. Utilizando de Listas e Dicionários para tal;\n",
    "2. Utilizando de um método do pandas, o `pd.DataFrame`;\n",
    "\n",
    "`pd.DataFrame()` retorna um um objeto do tipo DataFrame.\n",
    "\n",
    "\n"
   ]
  },
  {
   "cell_type": "code",
   "execution_count": null,
   "metadata": {},
   "outputs": [],
   "source": [
    "v1 = [1958, 1962,1970,1994,2002]\n",
    "v2 = [1,1,2,3,5]\n",
    "v3 = [10,100,1000,5, 25]\n",
    "\n",
    "df = pd.DataFrame({'v1': v1,'v2': v2,'v3': v3})\n",
    "\n",
    "df"
   ]
  }
 ],
 "metadata": {
  "kernelspec": {
   "display_name": "Python 3",
   "language": "python",
   "name": "python3"
  },
  "language_info": {
   "codemirror_mode": {
    "name": "ipython",
    "version": 3
   },
   "file_extension": ".py",
   "mimetype": "text/x-python",
   "name": "python",
   "nbconvert_exporter": "python",
   "pygments_lexer": "ipython3",
   "version": "3.8.3"
  }
 },
 "nbformat": 4,
 "nbformat_minor": 4
}
